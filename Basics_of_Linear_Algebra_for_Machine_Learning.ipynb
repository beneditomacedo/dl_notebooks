{
  "nbformat": 4,
  "nbformat_minor": 0,
  "metadata": {
    "colab": {
      "name": "Basics_of_Linear_Algebra_for_Machine_Learning.ipynb",
      "provenance": [],
      "collapsed_sections": [],
      "include_colab_link": true
    },
    "kernelspec": {
      "name": "python3",
      "display_name": "Python 3"
    }
  },
  "cells": [
    {
      "cell_type": "markdown",
      "metadata": {
        "id": "view-in-github",
        "colab_type": "text"
      },
      "source": [
        "<a href=\"https://colab.research.google.com/github/beneditomacedo/dl_notebooks/blob/master/Basics_of_Linear_Algebra_for_Machine_Learning.ipynb\" target=\"_parent\"><img src=\"https://colab.research.google.com/assets/colab-badge.svg\" alt=\"Open In Colab\"/></a>"
      ]
    },
    {
      "cell_type": "markdown",
      "metadata": {
        "id": "mA7v66QoS2Nl",
        "colab_type": "text"
      },
      "source": [
        ""
      ]
    },
    {
      "cell_type": "markdown",
      "metadata": {
        "id": "JcDZYVO3S4YS",
        "colab_type": "text"
      },
      "source": [
        "# Section III"
      ]
    },
    {
      "cell_type": "markdown",
      "metadata": {
        "id": "jK8NbTOBS9RA",
        "colab_type": "text"
      },
      "source": [
        "## Chapter 4 - Introduction to NumPy Arrays"
      ]
    },
    {
      "cell_type": "code",
      "metadata": {
        "id": "jWEAJfjSTG1S",
        "colab_type": "code",
        "colab": {}
      },
      "source": [
        "import numpy as np"
      ],
      "execution_count": 31,
      "outputs": []
    },
    {
      "cell_type": "code",
      "metadata": {
        "id": "Z9by5KfnTJ0Q",
        "colab_type": "code",
        "colab": {
          "base_uri": "https://localhost:8080/",
          "height": 85
        },
        "outputId": "057750d8-142b-4b3c-abed-f0087e0b2d55"
      },
      "source": [
        "# create an array\n",
        "#\n",
        "l = [1.0,2.0,3.0]\n",
        "a = np.array(l)\n",
        "#\n",
        "print(a)\n",
        "print(a.shape)\n",
        "print(a.dtype)\n",
        "type(a)"
      ],
      "execution_count": 32,
      "outputs": [
        {
          "output_type": "stream",
          "text": [
            "[1. 2. 3.]\n",
            "(3,)\n",
            "float64\n"
          ],
          "name": "stdout"
        },
        {
          "output_type": "execute_result",
          "data": {
            "text/plain": [
              "numpy.ndarray"
            ]
          },
          "metadata": {
            "tags": []
          },
          "execution_count": 32
        }
      ]
    },
    {
      "cell_type": "code",
      "metadata": {
        "id": "mx4tgtSqUtXU",
        "colab_type": "code",
        "colab": {
          "base_uri": "https://localhost:8080/",
          "height": 119
        },
        "outputId": "ac48d655-f384-4c3c-da04-2a351a94528a"
      },
      "source": [
        "# creating an empty array. Their content will be random and they need to be initialized before use\n",
        "# \n",
        "a = np.empty([3,3])\n",
        "#\n",
        "print(a)\n",
        "print(a.shape)\n",
        "print(a.dtype)\n",
        "type(a)"
      ],
      "execution_count": 33,
      "outputs": [
        {
          "output_type": "stream",
          "text": [
            "[[1. 1. 1.]\n",
            " [1. 1. 1.]\n",
            " [1. 1. 1.]]\n",
            "(3, 3)\n",
            "float64\n"
          ],
          "name": "stdout"
        },
        {
          "output_type": "execute_result",
          "data": {
            "text/plain": [
              "numpy.ndarray"
            ]
          },
          "metadata": {
            "tags": []
          },
          "execution_count": 33
        }
      ]
    },
    {
      "cell_type": "code",
      "metadata": {
        "id": "2MTyhVuYVX82",
        "colab_type": "code",
        "colab": {
          "base_uri": "https://localhost:8080/",
          "height": 119
        },
        "outputId": "90e37ba2-cf65-4206-8b35-8b0fd3a3dd7f"
      },
      "source": [
        "# creating an zeroed array. \n",
        "# \n",
        "a = np.zeros([3,3])\n",
        "#\n",
        "print(a)\n",
        "print(a.shape)\n",
        "print(a.dtype)\n",
        "type(a)"
      ],
      "execution_count": 34,
      "outputs": [
        {
          "output_type": "stream",
          "text": [
            "[[0. 0. 0.]\n",
            " [0. 0. 0.]\n",
            " [0. 0. 0.]]\n",
            "(3, 3)\n",
            "float64\n"
          ],
          "name": "stdout"
        },
        {
          "output_type": "execute_result",
          "data": {
            "text/plain": [
              "numpy.ndarray"
            ]
          },
          "metadata": {
            "tags": []
          },
          "execution_count": 34
        }
      ]
    },
    {
      "cell_type": "code",
      "metadata": {
        "id": "LZy-4bEdVlkk",
        "colab_type": "code",
        "colab": {
          "base_uri": "https://localhost:8080/",
          "height": 119
        },
        "outputId": "b2115bdb-bb4c-450b-9385-e4cd91b528e0"
      },
      "source": [
        "# creating an array with 1s\n",
        "# \n",
        "a = np.ones([3,3])\n",
        "#\n",
        "print(a)\n",
        "print(a.shape)\n",
        "print(a.dtype)\n",
        "type(a)"
      ],
      "execution_count": 35,
      "outputs": [
        {
          "output_type": "stream",
          "text": [
            "[[1. 1. 1.]\n",
            " [1. 1. 1.]\n",
            " [1. 1. 1.]]\n",
            "(3, 3)\n",
            "float64\n"
          ],
          "name": "stdout"
        },
        {
          "output_type": "execute_result",
          "data": {
            "text/plain": [
              "numpy.ndarray"
            ]
          },
          "metadata": {
            "tags": []
          },
          "execution_count": 35
        }
      ]
    },
    {
      "cell_type": "code",
      "metadata": {
        "id": "S_F8__NcWPHz",
        "colab_type": "code",
        "colab": {
          "base_uri": "https://localhost:8080/",
          "height": 170
        },
        "outputId": "f58d0672-2cf9-4803-92f8-c6bf8dadd230"
      },
      "source": [
        "# stack vertically arrays\n",
        "# \n",
        "a1 = np.array([1,2,3])\n",
        "print(a1)\n",
        "a2 = np.array([4,5,6])\n",
        "print(a2)\n",
        "a3 = np.array([7,8,9])\n",
        "print(a3)\n",
        "a = np.vstack((a1,a2,a3))\n",
        "#\n",
        "print(a)\n",
        "print(a.shape)\n",
        "print(a.dtype)\n",
        "type(a)"
      ],
      "execution_count": 36,
      "outputs": [
        {
          "output_type": "stream",
          "text": [
            "[1 2 3]\n",
            "[4 5 6]\n",
            "[7 8 9]\n",
            "[[1 2 3]\n",
            " [4 5 6]\n",
            " [7 8 9]]\n",
            "(3, 3)\n",
            "int64\n"
          ],
          "name": "stdout"
        },
        {
          "output_type": "execute_result",
          "data": {
            "text/plain": [
              "numpy.ndarray"
            ]
          },
          "metadata": {
            "tags": []
          },
          "execution_count": 36
        }
      ]
    },
    {
      "cell_type": "code",
      "metadata": {
        "id": "cPb2eInoXGEM",
        "colab_type": "code",
        "colab": {
          "base_uri": "https://localhost:8080/",
          "height": 136
        },
        "outputId": "31f749f1-6207-4181-e851-251e888dee82"
      },
      "source": [
        "# stack horizontally arrays\n",
        "# \n",
        "a1 = np.array([1,2,3])\n",
        "print(a1)\n",
        "a2 = np.array([4,5,6])\n",
        "print(a2)\n",
        "a3 = np.array([7,8,9])\n",
        "print(a3)\n",
        "a = np.hstack((a1,a2,a3))\n",
        "#\n",
        "print(a)\n",
        "print(a.shape)\n",
        "print(a.dtype)\n",
        "type(a)"
      ],
      "execution_count": 37,
      "outputs": [
        {
          "output_type": "stream",
          "text": [
            "[1 2 3]\n",
            "[4 5 6]\n",
            "[7 8 9]\n",
            "[1 2 3 4 5 6 7 8 9]\n",
            "(9,)\n",
            "int64\n"
          ],
          "name": "stdout"
        },
        {
          "output_type": "execute_result",
          "data": {
            "text/plain": [
              "numpy.ndarray"
            ]
          },
          "metadata": {
            "tags": []
          },
          "execution_count": 37
        }
      ]
    },
    {
      "cell_type": "code",
      "metadata": {
        "id": "0S_WEykYZZNE",
        "colab_type": "code",
        "colab": {
          "base_uri": "https://localhost:8080/",
          "height": 153
        },
        "outputId": "ce6a565f-ba3e-4b2d-b03d-df8c6c83fb68"
      },
      "source": [
        "# creating an array with a specific value in every cell\n",
        "# \n",
        "a = np.full([5,3],16)\n",
        "#\n",
        "print(a)\n",
        "print(a.shape)\n",
        "print(a.dtype)\n",
        "type(a)"
      ],
      "execution_count": 38,
      "outputs": [
        {
          "output_type": "stream",
          "text": [
            "[[16 16 16]\n",
            " [16 16 16]\n",
            " [16 16 16]\n",
            " [16 16 16]\n",
            " [16 16 16]]\n",
            "(5, 3)\n",
            "int64\n"
          ],
          "name": "stdout"
        },
        {
          "output_type": "execute_result",
          "data": {
            "text/plain": [
              "numpy.ndarray"
            ]
          },
          "metadata": {
            "tags": []
          },
          "execution_count": 38
        }
      ]
    },
    {
      "cell_type": "code",
      "metadata": {
        "id": "iISQgx9BZ4zL",
        "colab_type": "code",
        "colab": {
          "base_uri": "https://localhost:8080/",
          "height": 153
        },
        "outputId": "f402e7c4-c59f-4d29-8cf2-252f6f2e1f0f"
      },
      "source": [
        "# creating an array with a specific value in every cell\n",
        "# \n",
        "a = np.full([5,3],[1,2,3])\n",
        "#\n",
        "print(a)\n",
        "print(a.shape)\n",
        "print(a.dtype)\n",
        "type(a)"
      ],
      "execution_count": 39,
      "outputs": [
        {
          "output_type": "stream",
          "text": [
            "[[1 2 3]\n",
            " [1 2 3]\n",
            " [1 2 3]\n",
            " [1 2 3]\n",
            " [1 2 3]]\n",
            "(5, 3)\n",
            "int64\n"
          ],
          "name": "stdout"
        },
        {
          "output_type": "execute_result",
          "data": {
            "text/plain": [
              "numpy.ndarray"
            ]
          },
          "metadata": {
            "tags": []
          },
          "execution_count": 39
        }
      ]
    },
    {
      "cell_type": "markdown",
      "metadata": {
        "id": "Joczg40ahlkh",
        "colab_type": "text"
      },
      "source": [
        ""
      ]
    },
    {
      "cell_type": "markdown",
      "metadata": {
        "id": "z5jw_0dNZJN7",
        "colab_type": "text"
      },
      "source": [
        "## Chapter 5 - Index, Slice and Reshape NumPy Arrays"
      ]
    },
    {
      "cell_type": "markdown",
      "metadata": {
        "id": "zdq9wfrqhj0f",
        "colab_type": "text"
      },
      "source": [
        "### Array Indexing"
      ]
    },
    {
      "cell_type": "code",
      "metadata": {
        "id": "iclo3w2PZN_K",
        "colab_type": "code",
        "colab": {
          "base_uri": "https://localhost:8080/",
          "height": 34
        },
        "outputId": "f7e377b1-2dfa-463e-c7a6-14f4a5b0b99e"
      },
      "source": [
        "data = np.array([11,22,33,44,55])\n",
        "type(data)"
      ],
      "execution_count": 40,
      "outputs": [
        {
          "output_type": "execute_result",
          "data": {
            "text/plain": [
              "numpy.ndarray"
            ]
          },
          "metadata": {
            "tags": []
          },
          "execution_count": 40
        }
      ]
    },
    {
      "cell_type": "code",
      "metadata": {
        "id": "UjdxwAL-cF9_",
        "colab_type": "code",
        "colab": {
          "base_uri": "https://localhost:8080/",
          "height": 51
        },
        "outputId": "5bdf8b38-4782-4d70-bdd8-202d4845ca71"
      },
      "source": [
        "print(data[0])\n",
        "print(data[4])"
      ],
      "execution_count": 41,
      "outputs": [
        {
          "output_type": "stream",
          "text": [
            "11\n",
            "55\n"
          ],
          "name": "stdout"
        }
      ]
    },
    {
      "cell_type": "code",
      "metadata": {
        "id": "0BwixuX1cPng",
        "colab_type": "code",
        "colab": {
          "base_uri": "https://localhost:8080/",
          "height": 51
        },
        "outputId": "d6b5ba3e-08e4-4e1f-a8d5-985e8f338ef7"
      },
      "source": [
        "print(data[-1])\n",
        "print(data[-3])"
      ],
      "execution_count": 42,
      "outputs": [
        {
          "output_type": "stream",
          "text": [
            "55\n",
            "33\n"
          ],
          "name": "stdout"
        }
      ]
    },
    {
      "cell_type": "code",
      "metadata": {
        "id": "Kr9DsgtpgXva",
        "colab_type": "code",
        "colab": {
          "base_uri": "https://localhost:8080/",
          "height": 51
        },
        "outputId": "bb5bd733-d132-49b7-8ca5-387223b1fd5b"
      },
      "source": [
        "data = np.array([\n",
        "[11, 22],\n",
        "[33, 44],\n",
        "[55, 66]])\n",
        "# index data\n",
        "print(data[0,0])\n",
        "print(data[2,0])"
      ],
      "execution_count": 43,
      "outputs": [
        {
          "output_type": "stream",
          "text": [
            "11\n",
            "55\n"
          ],
          "name": "stdout"
        }
      ]
    },
    {
      "cell_type": "code",
      "metadata": {
        "id": "Duvo0EjhhYBg",
        "colab_type": "code",
        "colab": {
          "base_uri": "https://localhost:8080/",
          "height": 34
        },
        "outputId": "67712220-c6c7-4a17-ca58-61d63f546fa7"
      },
      "source": [
        "# print the first row\n",
        "print(data[0,])"
      ],
      "execution_count": 44,
      "outputs": [
        {
          "output_type": "stream",
          "text": [
            "[11 22]\n"
          ],
          "name": "stdout"
        }
      ]
    },
    {
      "cell_type": "markdown",
      "metadata": {
        "id": "1Hne44wdhm5S",
        "colab_type": "text"
      },
      "source": [
        "### Array Slicing"
      ]
    },
    {
      "cell_type": "code",
      "metadata": {
        "id": "eQNXAFWQhqz8",
        "colab_type": "code",
        "colab": {
          "base_uri": "https://localhost:8080/",
          "height": 34
        },
        "outputId": "f2dd77b0-4618-4a01-a5b5-641488fe3ba5"
      },
      "source": [
        "# define array\n",
        "data = np.array([11, 22, 33, 44, 55])\n",
        "print(data[:])"
      ],
      "execution_count": 45,
      "outputs": [
        {
          "output_type": "stream",
          "text": [
            "[11 22 33 44 55]\n"
          ],
          "name": "stdout"
        }
      ]
    },
    {
      "cell_type": "code",
      "metadata": {
        "id": "Mnc-hQ4jh6qI",
        "colab_type": "code",
        "colab": {
          "base_uri": "https://localhost:8080/",
          "height": 34
        },
        "outputId": "6c7473ae-ada2-42bc-d604-f82301459d3e"
      },
      "source": [
        "print(data[0:1])"
      ],
      "execution_count": 46,
      "outputs": [
        {
          "output_type": "stream",
          "text": [
            "[11]\n"
          ],
          "name": "stdout"
        }
      ]
    },
    {
      "cell_type": "code",
      "metadata": {
        "id": "qCSUKT_qiEoK",
        "colab_type": "code",
        "colab": {
          "base_uri": "https://localhost:8080/",
          "height": 34
        },
        "outputId": "08304599-344f-4bd5-d1a4-fd244012904c"
      },
      "source": [
        "# negative slicing\n",
        "print(data[-2:])"
      ],
      "execution_count": 47,
      "outputs": [
        {
          "output_type": "stream",
          "text": [
            "[44 55]\n"
          ],
          "name": "stdout"
        }
      ]
    },
    {
      "cell_type": "code",
      "metadata": {
        "id": "6X3hEfPtkNhm",
        "colab_type": "code",
        "colab": {}
      },
      "source": [
        "# define array\n",
        "data = np.array([\n",
        "[11, 22, 33],\n",
        "[44, 55, 66],\n",
        "[77, 88, 99]])"
      ],
      "execution_count": 48,
      "outputs": []
    },
    {
      "cell_type": "code",
      "metadata": {
        "id": "XULtGi8clG9Y",
        "colab_type": "code",
        "colab": {
          "base_uri": "https://localhost:8080/",
          "height": 68
        },
        "outputId": "83569185-2b52-4a05-f6c4-c44faf06b678"
      },
      "source": [
        "# remove last column\n",
        "print(data[:,:-1])"
      ],
      "execution_count": 49,
      "outputs": [
        {
          "output_type": "stream",
          "text": [
            "[[11 22]\n",
            " [44 55]\n",
            " [77 88]]\n"
          ],
          "name": "stdout"
        }
      ]
    },
    {
      "cell_type": "code",
      "metadata": {
        "id": "YWEytJ-qlZFg",
        "colab_type": "code",
        "colab": {
          "base_uri": "https://localhost:8080/",
          "height": 34
        },
        "outputId": "43c2da8d-3224-4f3b-df9c-a257ee28d6f5"
      },
      "source": [
        "# select only the last column\n",
        "print(data[:,-1])"
      ],
      "execution_count": 50,
      "outputs": [
        {
          "output_type": "stream",
          "text": [
            "[33 66 99]\n"
          ],
          "name": "stdout"
        }
      ]
    },
    {
      "cell_type": "code",
      "metadata": {
        "id": "T_wO5cxils6Y",
        "colab_type": "code",
        "colab": {
          "base_uri": "https://localhost:8080/",
          "height": 34
        },
        "outputId": "0fa3ad2b-bacf-49bb-876c-76bd7eeb3a9b"
      },
      "source": [
        "# select the second row\n",
        "data[1:2,:]"
      ],
      "execution_count": 51,
      "outputs": [
        {
          "output_type": "execute_result",
          "data": {
            "text/plain": [
              "array([[44, 55, 66]])"
            ]
          },
          "metadata": {
            "tags": []
          },
          "execution_count": 51
        }
      ]
    },
    {
      "cell_type": "code",
      "metadata": {
        "id": "OojyY940mBA-",
        "colab_type": "code",
        "colab": {
          "base_uri": "https://localhost:8080/",
          "height": 68
        },
        "outputId": "d194d313-e5df-4e62-ef12-3c266d1283c9"
      },
      "source": [
        "# select the second column\n",
        "data[:,1:2]"
      ],
      "execution_count": 52,
      "outputs": [
        {
          "output_type": "execute_result",
          "data": {
            "text/plain": [
              "array([[22],\n",
              "       [55],\n",
              "       [88]])"
            ]
          },
          "metadata": {
            "tags": []
          },
          "execution_count": 52
        }
      ]
    },
    {
      "cell_type": "code",
      "metadata": {
        "id": "a_xRx3vnuQVy",
        "colab_type": "code",
        "colab": {
          "base_uri": "https://localhost:8080/",
          "height": 85
        },
        "outputId": "060e93c8-b039-433e-9ad9-0c46f4d04b50"
      },
      "source": [
        "# It is common to split a dataset into train and test sets\n",
        "#\n",
        "# train = data[:split, :]\n",
        "# test = data[split:, :]\n",
        "data = np.array([\n",
        "[11, 22, 33],\n",
        "[44, 55, 66],\n",
        "[77, 88, 99]])\n",
        "# separate data\n",
        "split = 2\n",
        "train,test = data[:split,:],data[split:,:]\n",
        "print(train)\n",
        "print('-------------')\n",
        "print(test)"
      ],
      "execution_count": 53,
      "outputs": [
        {
          "output_type": "stream",
          "text": [
            "[[11 22 33]\n",
            " [44 55 66]]\n",
            "-------------\n",
            "[[77 88 99]]\n"
          ],
          "name": "stdout"
        }
      ]
    },
    {
      "cell_type": "code",
      "metadata": {
        "id": "QRsF2VO32U16",
        "colab_type": "code",
        "colab": {}
      },
      "source": [
        "### Array Reshaping"
      ],
      "execution_count": 54,
      "outputs": []
    },
    {
      "cell_type": "code",
      "metadata": {
        "id": "cGsB4mau35Nn",
        "colab_type": "code",
        "colab": {
          "base_uri": "https://localhost:8080/",
          "height": 34
        },
        "outputId": "13e033e7-355e-4dbd-876f-24d92d7962ef"
      },
      "source": [
        "# define array\n",
        "data = np.array([11, 22, 33, 44, 55])\n",
        "print(data.shape)"
      ],
      "execution_count": 55,
      "outputs": [
        {
          "output_type": "stream",
          "text": [
            "(5,)\n"
          ],
          "name": "stdout"
        }
      ]
    },
    {
      "cell_type": "code",
      "metadata": {
        "id": "MNMwrVRU4A34",
        "colab_type": "code",
        "colab": {
          "base_uri": "https://localhost:8080/",
          "height": 34
        },
        "outputId": "0b834955-f376-4ba8-d3de-b260f20d5e0e"
      },
      "source": [
        "# list of data\n",
        "data = [[11, 22],\n",
        "[33, 44],\n",
        "[55, 66]]\n",
        "# array of data\n",
        "data = np.array(data)\n",
        "print(data.shape)"
      ],
      "execution_count": 56,
      "outputs": [
        {
          "output_type": "stream",
          "text": [
            "(3, 2)\n"
          ],
          "name": "stdout"
        }
      ]
    },
    {
      "cell_type": "markdown",
      "metadata": {
        "id": "c51d-qsO6QiZ",
        "colab_type": "text"
      },
      "source": [
        "### Reshaping 1D to 2D Array"
      ]
    },
    {
      "cell_type": "code",
      "metadata": {
        "id": "tEWGmdga6OMb",
        "colab_type": "code",
        "colab": {
          "base_uri": "https://localhost:8080/",
          "height": 170
        },
        "outputId": "9eb0603b-6204-4f44-b6e2-55c327c84a7e"
      },
      "source": [
        "# define array\n",
        "data = np.array([11, 22, 33, 44, 55])\n",
        "print(data)\n",
        "print(data.shape)\n",
        "print('-------------')\n",
        "# reshape\n",
        "data = data.reshape((data.shape[0], 1))\n",
        "print(data)\n",
        "print(data.shape)"
      ],
      "execution_count": 57,
      "outputs": [
        {
          "output_type": "stream",
          "text": [
            "[11 22 33 44 55]\n",
            "(5,)\n",
            "-------------\n",
            "[[11]\n",
            " [22]\n",
            " [33]\n",
            " [44]\n",
            " [55]]\n",
            "(5, 1)\n"
          ],
          "name": "stdout"
        }
      ]
    },
    {
      "cell_type": "code",
      "metadata": {
        "id": "vS6IdycC-4P0",
        "colab_type": "code",
        "colab": {
          "base_uri": "https://localhost:8080/",
          "height": 85
        },
        "outputId": "c35f7b39-a267-43a1-a132-101f5e88e287"
      },
      "source": [
        "data = [[12, 23],[34, 45],[56, 67]]\n",
        "# array of data\n",
        "data = np.array(data)\n",
        "print(data)\n",
        "print(data.shape)"
      ],
      "execution_count": 58,
      "outputs": [
        {
          "output_type": "stream",
          "text": [
            "[[12 23]\n",
            " [34 45]\n",
            " [56 67]]\n",
            "(3, 2)\n"
          ],
          "name": "stdout"
        }
      ]
    },
    {
      "cell_type": "code",
      "metadata": {
        "id": "-3kAoa7j_qLP",
        "colab_type": "code",
        "colab": {
          "base_uri": "https://localhost:8080/",
          "height": 170
        },
        "outputId": "dd055573-fe16-44c8-fcfc-71516cc89b0a"
      },
      "source": [
        "# reshape\n",
        "data = data.reshape((data.shape[0], data.shape[1], 1))\n",
        "print(data)\n",
        "print(data.shape)"
      ],
      "execution_count": 59,
      "outputs": [
        {
          "output_type": "stream",
          "text": [
            "[[[12]\n",
            "  [23]]\n",
            "\n",
            " [[34]\n",
            "  [45]]\n",
            "\n",
            " [[56]\n",
            "  [67]]]\n",
            "(3, 2, 1)\n"
          ],
          "name": "stdout"
        }
      ]
    },
    {
      "cell_type": "markdown",
      "metadata": {
        "id": "FXvrnwy5KNXr",
        "colab_type": "text"
      },
      "source": [
        "### Importing csv data"
      ]
    },
    {
      "cell_type": "code",
      "metadata": {
        "id": "F_QXJ-VOKQKZ",
        "colab_type": "code",
        "colab": {
          "base_uri": "https://localhost:8080/",
          "height": 34
        },
        "outputId": "cb30dc5e-2993-47a6-fd9b-bbc619e588d8"
      },
      "source": [
        "data = np.genfromtxt('iris_data',delimiter=',')\n",
        "type(data)"
      ],
      "execution_count": 60,
      "outputs": [
        {
          "output_type": "execute_result",
          "data": {
            "text/plain": [
              "numpy.ndarray"
            ]
          },
          "metadata": {
            "tags": []
          },
          "execution_count": 60
        }
      ]
    },
    {
      "cell_type": "code",
      "metadata": {
        "id": "sl_NCAT1Kj3o",
        "colab_type": "code",
        "colab": {
          "base_uri": "https://localhost:8080/",
          "height": 187
        },
        "outputId": "0491588b-a24f-4cae-d8ea-713604ce0d83"
      },
      "source": [
        "print(data.shape)\n",
        "data[1:10]"
      ],
      "execution_count": 61,
      "outputs": [
        {
          "output_type": "stream",
          "text": [
            "(150, 5)\n"
          ],
          "name": "stdout"
        },
        {
          "output_type": "execute_result",
          "data": {
            "text/plain": [
              "array([[4.9, 3. , 1.4, 0.2, nan],\n",
              "       [4.7, 3.2, 1.3, 0.2, nan],\n",
              "       [4.6, 3.1, 1.5, 0.2, nan],\n",
              "       [5. , 3.6, 1.4, 0.2, nan],\n",
              "       [5.4, 3.9, 1.7, 0.4, nan],\n",
              "       [4.6, 3.4, 1.4, 0.3, nan],\n",
              "       [5. , 3.4, 1.5, 0.2, nan],\n",
              "       [4.4, 2.9, 1.4, 0.2, nan],\n",
              "       [4.9, 3.1, 1.5, 0.1, nan]])"
            ]
          },
          "metadata": {
            "tags": []
          },
          "execution_count": 61
        }
      ]
    },
    {
      "cell_type": "code",
      "metadata": {
        "id": "pzXscVzNMiKF",
        "colab_type": "code",
        "colab": {
          "base_uri": "https://localhost:8080/",
          "height": 34
        },
        "outputId": "4e1b15a2-470c-432a-9ea8-0b38c022ecfa"
      },
      "source": [
        "# how to load a file with mixed data type. On case below, the last column is \"string\".\n",
        "#\n",
        "data = np.genfromtxt('iris_data',delimiter=',',dtype=None,encoding=None)\n",
        "type(data)"
      ],
      "execution_count": 62,
      "outputs": [
        {
          "output_type": "execute_result",
          "data": {
            "text/plain": [
              "numpy.ndarray"
            ]
          },
          "metadata": {
            "tags": []
          },
          "execution_count": 62
        }
      ]
    },
    {
      "cell_type": "code",
      "metadata": {
        "id": "qIc-UXtRMtlP",
        "colab_type": "code",
        "colab": {
          "base_uri": "https://localhost:8080/",
          "height": 204
        },
        "outputId": "225e0f99-1d85-4129-bd24-bde726ab5ae4"
      },
      "source": [
        "print(data.shape)\n",
        "data[1:10]"
      ],
      "execution_count": 63,
      "outputs": [
        {
          "output_type": "stream",
          "text": [
            "(150,)\n"
          ],
          "name": "stdout"
        },
        {
          "output_type": "execute_result",
          "data": {
            "text/plain": [
              "array([(4.9, 3. , 1.4, 0.2, 'Iris-setosa'),\n",
              "       (4.7, 3.2, 1.3, 0.2, 'Iris-setosa'),\n",
              "       (4.6, 3.1, 1.5, 0.2, 'Iris-setosa'),\n",
              "       (5. , 3.6, 1.4, 0.2, 'Iris-setosa'),\n",
              "       (5.4, 3.9, 1.7, 0.4, 'Iris-setosa'),\n",
              "       (4.6, 3.4, 1.4, 0.3, 'Iris-setosa'),\n",
              "       (5. , 3.4, 1.5, 0.2, 'Iris-setosa'),\n",
              "       (4.4, 2.9, 1.4, 0.2, 'Iris-setosa'),\n",
              "       (4.9, 3.1, 1.5, 0.1, 'Iris-setosa')],\n",
              "      dtype=[('f0', '<f8'), ('f1', '<f8'), ('f2', '<f8'), ('f3', '<f8'), ('f4', '<U15')])"
            ]
          },
          "metadata": {
            "tags": []
          },
          "execution_count": 63
        }
      ]
    },
    {
      "cell_type": "code",
      "metadata": {
        "id": "qg55AYNuHguD",
        "colab_type": "code",
        "colab": {
          "base_uri": "https://localhost:8080/",
          "height": 187
        },
        "outputId": "04b98777-45e1-4a43-bebf-39b3304395fd"
      },
      "source": [
        "# removing the last column of a structured array\n",
        "l = []\n",
        "for i in range(0,len(data)):\n",
        "   l.append(list(tuple(data[i])[:-1]))\n",
        "b = np.array(l)\n",
        "print(b.shape)\n",
        "print(b[1:10])"
      ],
      "execution_count": 66,
      "outputs": [
        {
          "output_type": "stream",
          "text": [
            "(150, 4)\n",
            "[[4.9 3.  1.4 0.2]\n",
            " [4.7 3.2 1.3 0.2]\n",
            " [4.6 3.1 1.5 0.2]\n",
            " [5.  3.6 1.4 0.2]\n",
            " [5.4 3.9 1.7 0.4]\n",
            " [4.6 3.4 1.4 0.3]\n",
            " [5.  3.4 1.5 0.2]\n",
            " [4.4 2.9 1.4 0.2]\n",
            " [4.9 3.1 1.5 0.1]]\n"
          ],
          "name": "stdout"
        }
      ]
    },
    {
      "cell_type": "markdown",
      "metadata": {
        "id": "ZA2jwACyGc9V",
        "colab_type": "text"
      },
      "source": [
        "Chapter 6 - Broadcasting"
      ]
    },
    {
      "cell_type": "markdown",
      "metadata": {
        "id": "JuG4o9mTHmGj",
        "colab_type": "text"
      },
      "source": [
        "### Scalar and One Dimension Array"
      ]
    },
    {
      "cell_type": "code",
      "metadata": {
        "id": "qDK20adqHjwC",
        "colab_type": "code",
        "colab": {
          "base_uri": "https://localhost:8080/",
          "height": 68
        },
        "outputId": "bc35d3f3-56ce-473a-e101-5c0581d50529"
      },
      "source": [
        "# define array\n",
        "a = np.array([1, 2, 3])\n",
        "print(a)\n",
        "# define scalar\n",
        "b = 2\n",
        "print(b)\n",
        "# broadcast\n",
        "c = a + b\n",
        "print(c)"
      ],
      "execution_count": 67,
      "outputs": [
        {
          "output_type": "stream",
          "text": [
            "[1 2 3]\n",
            "2\n",
            "[3 4 5]\n"
          ],
          "name": "stdout"
        }
      ]
    },
    {
      "cell_type": "markdown",
      "metadata": {
        "id": "hUnH8lJNIgW-",
        "colab_type": "text"
      },
      "source": [
        "### Scalar and Two Dimension Array"
      ]
    },
    {
      "cell_type": "code",
      "metadata": {
        "id": "toHApfz-Ijb2",
        "colab_type": "code",
        "colab": {
          "base_uri": "https://localhost:8080/",
          "height": 102
        },
        "outputId": "7f911948-3cac-456a-c3b3-7886b50f7a4f"
      },
      "source": [
        "# define array\n",
        "A = np.array([\n",
        "[1, 2, 3],\n",
        "[1, 2, 3]])\n",
        "print(A)\n",
        "# define scalar\n",
        "b = 2\n",
        "print(b)\n",
        "# broadcast\n",
        "C = A + b\n",
        "print(C)"
      ],
      "execution_count": 69,
      "outputs": [
        {
          "output_type": "stream",
          "text": [
            "[[1 2 3]\n",
            " [1 2 3]]\n",
            "2\n",
            "[[3 4 5]\n",
            " [3 4 5]]\n"
          ],
          "name": "stdout"
        }
      ]
    },
    {
      "cell_type": "markdown",
      "metadata": {
        "id": "HonJ7_ACI4xQ",
        "colab_type": "text"
      },
      "source": [
        "### One and Two Dimension Array"
      ]
    },
    {
      "cell_type": "code",
      "metadata": {
        "id": "_UiOy4rqI8KS",
        "colab_type": "code",
        "colab": {
          "base_uri": "https://localhost:8080/",
          "height": 136
        },
        "outputId": "040fe96e-183f-4d39-9692-48ab6f4fbca6"
      },
      "source": [
        "# define two-dimensional array\n",
        "A = np.array([\n",
        "[1, 2, 3],\n",
        "[1, 2, 3]])\n",
        "print(A)\n",
        "print('-------------')\n",
        "# define one-dimensional array\n",
        "b = np.array([10, 20, 30])\n",
        "print(b)\n",
        "print('-------------')\n",
        "# broadcast\n",
        "C = A + b\n",
        "print(C)"
      ],
      "execution_count": 74,
      "outputs": [
        {
          "output_type": "stream",
          "text": [
            "[[1 2 3]\n",
            " [1 2 3]]\n",
            "-------------\n",
            "[10 20 30]\n",
            "-------------\n",
            "[[11 22 33]\n",
            " [11 22 33]]\n"
          ],
          "name": "stdout"
        }
      ]
    }
  ]
}