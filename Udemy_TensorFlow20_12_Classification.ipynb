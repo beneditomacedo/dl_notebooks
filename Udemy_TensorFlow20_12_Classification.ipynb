{
  "nbformat": 4,
  "nbformat_minor": 0,
  "metadata": {
    "colab": {
      "name": "Udemy_TensorFlow20_12_Classification.ipynb",
      "provenance": [],
      "collapsed_sections": [],
      "authorship_tag": "ABX9TyMjKNWAieoUktC6PZ8Ur1mH",
      "include_colab_link": true
    },
    "kernelspec": {
      "name": "python3",
      "display_name": "Python 3"
    }
  },
  "cells": [
    {
      "cell_type": "markdown",
      "metadata": {
        "id": "view-in-github",
        "colab_type": "text"
      },
      "source": [
        "<a href=\"https://colab.research.google.com/github/beneditomacedo/dl_notebooks/blob/master/Udemy_TensorFlow20_12_Classification.ipynb\" target=\"_parent\"><img src=\"https://colab.research.google.com/assets/colab-badge.svg\" alt=\"Open In Colab\"/></a>"
      ]
    },
    {
      "cell_type": "markdown",
      "metadata": {
        "id": "RN4Zb0h2rfAl"
      },
      "source": [
        "Udemy: Tensorflow 2.0: Deep Learning and Artificial Intelligence\n",
        "available at: https://www.udemy.com/course/deep-learning-tensorflow-2/learn/lecture/15397338#overview"
      ]
    },
    {
      "cell_type": "code",
      "metadata": {
        "id": "ltJ5tn6or3SK",
        "outputId": "68db969e-7ad4-47f0-f1f0-fd6de33715bd",
        "colab": {
          "base_uri": "https://localhost:8080/",
          "height": 34
        }
      },
      "source": [
        "import tensorflow as tf\n",
        "print(tf.__version__)"
      ],
      "execution_count": 1,
      "outputs": [
        {
          "output_type": "stream",
          "text": [
            "2.3.0\n"
          ],
          "name": "stdout"
        }
      ]
    },
    {
      "cell_type": "code",
      "metadata": {
        "id": "vOXvKD9qrbVA"
      },
      "source": [
        "# Load in data\n",
        "from sklearn.datasets import load_breast_cancer"
      ],
      "execution_count": 2,
      "outputs": []
    },
    {
      "cell_type": "code",
      "metadata": {
        "id": "zfy6RaG3sQ7o"
      },
      "source": [
        "# Load dataset\n",
        "data = load_breast_cancer()"
      ],
      "execution_count": 3,
      "outputs": []
    },
    {
      "cell_type": "code",
      "metadata": {
        "id": "USq5_KRwsYyo",
        "outputId": "cb62be42-3dab-4f64-9c0d-b4d021baa62a",
        "colab": {
          "base_uri": "https://localhost:8080/",
          "height": 34
        }
      },
      "source": [
        "# check the data type\n",
        "type(data)"
      ],
      "execution_count": 4,
      "outputs": [
        {
          "output_type": "execute_result",
          "data": {
            "text/plain": [
              "sklearn.utils.Bunch"
            ]
          },
          "metadata": {
            "tags": []
          },
          "execution_count": 4
        }
      ]
    },
    {
      "cell_type": "code",
      "metadata": {
        "id": "gfhsA-4jtNMO",
        "outputId": "e0d407b3-32b1-44ab-d1fb-0fd65dd50190",
        "colab": {
          "base_uri": "https://localhost:8080/",
          "height": 34
        }
      },
      "source": [
        "# bunch is similiar to a dictionary\n",
        "data.keys()"
      ],
      "execution_count": 5,
      "outputs": [
        {
          "output_type": "execute_result",
          "data": {
            "text/plain": [
              "dict_keys(['data', 'target', 'target_names', 'DESCR', 'feature_names', 'filename'])"
            ]
          },
          "metadata": {
            "tags": []
          },
          "execution_count": 5
        }
      ]
    },
    {
      "cell_type": "code",
      "metadata": {
        "id": "KZFUrRyLuLQL",
        "outputId": "c3b76d40-f97b-46fd-eb78-47b00591a23a",
        "colab": {
          "base_uri": "https://localhost:8080/",
          "height": 1000
        }
      },
      "source": [
        "print(data.DESCR)"
      ],
      "execution_count": 6,
      "outputs": [
        {
          "output_type": "stream",
          "text": [
            ".. _breast_cancer_dataset:\n",
            "\n",
            "Breast cancer wisconsin (diagnostic) dataset\n",
            "--------------------------------------------\n",
            "\n",
            "**Data Set Characteristics:**\n",
            "\n",
            "    :Number of Instances: 569\n",
            "\n",
            "    :Number of Attributes: 30 numeric, predictive attributes and the class\n",
            "\n",
            "    :Attribute Information:\n",
            "        - radius (mean of distances from center to points on the perimeter)\n",
            "        - texture (standard deviation of gray-scale values)\n",
            "        - perimeter\n",
            "        - area\n",
            "        - smoothness (local variation in radius lengths)\n",
            "        - compactness (perimeter^2 / area - 1.0)\n",
            "        - concavity (severity of concave portions of the contour)\n",
            "        - concave points (number of concave portions of the contour)\n",
            "        - symmetry \n",
            "        - fractal dimension (\"coastline approximation\" - 1)\n",
            "\n",
            "        The mean, standard error, and \"worst\" or largest (mean of the three\n",
            "        largest values) of these features were computed for each image,\n",
            "        resulting in 30 features.  For instance, field 3 is Mean Radius, field\n",
            "        13 is Radius SE, field 23 is Worst Radius.\n",
            "\n",
            "        - class:\n",
            "                - WDBC-Malignant\n",
            "                - WDBC-Benign\n",
            "\n",
            "    :Summary Statistics:\n",
            "\n",
            "    ===================================== ====== ======\n",
            "                                           Min    Max\n",
            "    ===================================== ====== ======\n",
            "    radius (mean):                        6.981  28.11\n",
            "    texture (mean):                       9.71   39.28\n",
            "    perimeter (mean):                     43.79  188.5\n",
            "    area (mean):                          143.5  2501.0\n",
            "    smoothness (mean):                    0.053  0.163\n",
            "    compactness (mean):                   0.019  0.345\n",
            "    concavity (mean):                     0.0    0.427\n",
            "    concave points (mean):                0.0    0.201\n",
            "    symmetry (mean):                      0.106  0.304\n",
            "    fractal dimension (mean):             0.05   0.097\n",
            "    radius (standard error):              0.112  2.873\n",
            "    texture (standard error):             0.36   4.885\n",
            "    perimeter (standard error):           0.757  21.98\n",
            "    area (standard error):                6.802  542.2\n",
            "    smoothness (standard error):          0.002  0.031\n",
            "    compactness (standard error):         0.002  0.135\n",
            "    concavity (standard error):           0.0    0.396\n",
            "    concave points (standard error):      0.0    0.053\n",
            "    symmetry (standard error):            0.008  0.079\n",
            "    fractal dimension (standard error):   0.001  0.03\n",
            "    radius (worst):                       7.93   36.04\n",
            "    texture (worst):                      12.02  49.54\n",
            "    perimeter (worst):                    50.41  251.2\n",
            "    area (worst):                         185.2  4254.0\n",
            "    smoothness (worst):                   0.071  0.223\n",
            "    compactness (worst):                  0.027  1.058\n",
            "    concavity (worst):                    0.0    1.252\n",
            "    concave points (worst):               0.0    0.291\n",
            "    symmetry (worst):                     0.156  0.664\n",
            "    fractal dimension (worst):            0.055  0.208\n",
            "    ===================================== ====== ======\n",
            "\n",
            "    :Missing Attribute Values: None\n",
            "\n",
            "    :Class Distribution: 212 - Malignant, 357 - Benign\n",
            "\n",
            "    :Creator:  Dr. William H. Wolberg, W. Nick Street, Olvi L. Mangasarian\n",
            "\n",
            "    :Donor: Nick Street\n",
            "\n",
            "    :Date: November, 1995\n",
            "\n",
            "This is a copy of UCI ML Breast Cancer Wisconsin (Diagnostic) datasets.\n",
            "https://goo.gl/U2Uwz2\n",
            "\n",
            "Features are computed from a digitized image of a fine needle\n",
            "aspirate (FNA) of a breast mass.  They describe\n",
            "characteristics of the cell nuclei present in the image.\n",
            "\n",
            "Separating plane described above was obtained using\n",
            "Multisurface Method-Tree (MSM-T) [K. P. Bennett, \"Decision Tree\n",
            "Construction Via Linear Programming.\" Proceedings of the 4th\n",
            "Midwest Artificial Intelligence and Cognitive Science Society,\n",
            "pp. 97-101, 1992], a classification method which uses linear\n",
            "programming to construct a decision tree.  Relevant features\n",
            "were selected using an exhaustive search in the space of 1-4\n",
            "features and 1-3 separating planes.\n",
            "\n",
            "The actual linear program used to obtain the separating plane\n",
            "in the 3-dimensional space is that described in:\n",
            "[K. P. Bennett and O. L. Mangasarian: \"Robust Linear\n",
            "Programming Discrimination of Two Linearly Inseparable Sets\",\n",
            "Optimization Methods and Software 1, 1992, 23-34].\n",
            "\n",
            "This database is also available through the UW CS ftp server:\n",
            "\n",
            "ftp ftp.cs.wisc.edu\n",
            "cd math-prog/cpo-dataset/machine-learn/WDBC/\n",
            "\n",
            ".. topic:: References\n",
            "\n",
            "   - W.N. Street, W.H. Wolberg and O.L. Mangasarian. Nuclear feature extraction \n",
            "     for breast tumor diagnosis. IS&T/SPIE 1993 International Symposium on \n",
            "     Electronic Imaging: Science and Technology, volume 1905, pages 861-870,\n",
            "     San Jose, CA, 1993.\n",
            "   - O.L. Mangasarian, W.N. Street and W.H. Wolberg. Breast cancer diagnosis and \n",
            "     prognosis via linear programming. Operations Research, 43(4), pages 570-577, \n",
            "     July-August 1995.\n",
            "   - W.H. Wolberg, W.N. Street, and O.L. Mangasarian. Machine learning techniques\n",
            "     to diagnose breast cancer from fine-needle aspirates. Cancer Letters 77 (1994) \n",
            "     163-171.\n"
          ],
          "name": "stdout"
        }
      ]
    },
    {
      "cell_type": "code",
      "metadata": {
        "id": "LdXcHXlxvClB",
        "outputId": "9daf5681-698d-4bb3-dc6f-6314c056568d",
        "colab": {
          "base_uri": "https://localhost:8080/",
          "height": 187
        }
      },
      "source": [
        "# show the feature names\n",
        "data.feature_names"
      ],
      "execution_count": 7,
      "outputs": [
        {
          "output_type": "execute_result",
          "data": {
            "text/plain": [
              "array(['mean radius', 'mean texture', 'mean perimeter', 'mean area',\n",
              "       'mean smoothness', 'mean compactness', 'mean concavity',\n",
              "       'mean concave points', 'mean symmetry', 'mean fractal dimension',\n",
              "       'radius error', 'texture error', 'perimeter error', 'area error',\n",
              "       'smoothness error', 'compactness error', 'concavity error',\n",
              "       'concave points error', 'symmetry error',\n",
              "       'fractal dimension error', 'worst radius', 'worst texture',\n",
              "       'worst perimeter', 'worst area', 'worst smoothness',\n",
              "       'worst compactness', 'worst concavity', 'worst concave points',\n",
              "       'worst symmetry', 'worst fractal dimension'], dtype='<U23')"
            ]
          },
          "metadata": {
            "tags": []
          },
          "execution_count": 7
        }
      ]
    },
    {
      "cell_type": "code",
      "metadata": {
        "id": "5DR2vjqquzeq",
        "outputId": "a38889fd-1b6b-4996-b1fc-aeb091f8ab6a",
        "colab": {
          "base_uri": "https://localhost:8080/",
          "height": 34
        }
      },
      "source": [
        "# show the data shape\n",
        "data.data.shape"
      ],
      "execution_count": 8,
      "outputs": [
        {
          "output_type": "execute_result",
          "data": {
            "text/plain": [
              "(569, 30)"
            ]
          },
          "metadata": {
            "tags": []
          },
          "execution_count": 8
        }
      ]
    },
    {
      "cell_type": "code",
      "metadata": {
        "id": "rhsc90YyxoMy",
        "outputId": "c6ca02f7-e649-4e67-e119-06505ecee873",
        "colab": {
          "base_uri": "https://localhost:8080/",
          "height": 102
        }
      },
      "source": [
        "data.data[1]"
      ],
      "execution_count": 9,
      "outputs": [
        {
          "output_type": "execute_result",
          "data": {
            "text/plain": [
              "array([2.057e+01, 1.777e+01, 1.329e+02, 1.326e+03, 8.474e-02, 7.864e-02,\n",
              "       8.690e-02, 7.017e-02, 1.812e-01, 5.667e-02, 5.435e-01, 7.339e-01,\n",
              "       3.398e+00, 7.408e+01, 5.225e-03, 1.308e-02, 1.860e-02, 1.340e-02,\n",
              "       1.389e-02, 3.532e-03, 2.499e+01, 2.341e+01, 1.588e+02, 1.956e+03,\n",
              "       1.238e-01, 1.866e-01, 2.416e-01, 1.860e-01, 2.750e-01, 8.902e-02])"
            ]
          },
          "metadata": {
            "tags": []
          },
          "execution_count": 9
        }
      ]
    },
    {
      "cell_type": "code",
      "metadata": {
        "id": "y3S19TbFv6YB",
        "outputId": "c865f079-f9f4-4752-fa56-b5a257ba2881",
        "colab": {
          "base_uri": "https://localhost:8080/",
          "height": 34
        }
      },
      "source": [
        "# show the target names\n",
        "data.target_names"
      ],
      "execution_count": 10,
      "outputs": [
        {
          "output_type": "execute_result",
          "data": {
            "text/plain": [
              "array(['malignant', 'benign'], dtype='<U9')"
            ]
          },
          "metadata": {
            "tags": []
          },
          "execution_count": 10
        }
      ]
    },
    {
      "cell_type": "code",
      "metadata": {
        "id": "pavZ5tiWzdiS",
        "outputId": "79b0b61c-ab14-44d9-9d09-ee2b234468bb",
        "colab": {
          "base_uri": "https://localhost:8080/",
          "height": 34
        }
      },
      "source": [
        "# show the target shape\n",
        "data.target.shape"
      ],
      "execution_count": 11,
      "outputs": [
        {
          "output_type": "execute_result",
          "data": {
            "text/plain": [
              "(569,)"
            ]
          },
          "metadata": {
            "tags": []
          },
          "execution_count": 11
        }
      ]
    },
    {
      "cell_type": "code",
      "metadata": {
        "id": "5yhne81vyhzt",
        "outputId": "159e4776-31e8-468b-b062-d481830bc237",
        "colab": {
          "base_uri": "https://localhost:8080/",
          "height": 459
        }
      },
      "source": [
        "# show the target data\n",
        "data.target"
      ],
      "execution_count": 12,
      "outputs": [
        {
          "output_type": "execute_result",
          "data": {
            "text/plain": [
              "array([0, 0, 0, 0, 0, 0, 0, 0, 0, 0, 0, 0, 0, 0, 0, 0, 0, 0, 0, 1, 1, 1,\n",
              "       0, 0, 0, 0, 0, 0, 0, 0, 0, 0, 0, 0, 0, 0, 0, 1, 0, 0, 0, 0, 0, 0,\n",
              "       0, 0, 1, 0, 1, 1, 1, 1, 1, 0, 0, 1, 0, 0, 1, 1, 1, 1, 0, 1, 0, 0,\n",
              "       1, 1, 1, 1, 0, 1, 0, 0, 1, 0, 1, 0, 0, 1, 1, 1, 0, 0, 1, 0, 0, 0,\n",
              "       1, 1, 1, 0, 1, 1, 0, 0, 1, 1, 1, 0, 0, 1, 1, 1, 1, 0, 1, 1, 0, 1,\n",
              "       1, 1, 1, 1, 1, 1, 1, 0, 0, 0, 1, 0, 0, 1, 1, 1, 0, 0, 1, 0, 1, 0,\n",
              "       0, 1, 0, 0, 1, 1, 0, 1, 1, 0, 1, 1, 1, 1, 0, 1, 1, 1, 1, 1, 1, 1,\n",
              "       1, 1, 0, 1, 1, 1, 1, 0, 0, 1, 0, 1, 1, 0, 0, 1, 1, 0, 0, 1, 1, 1,\n",
              "       1, 0, 1, 1, 0, 0, 0, 1, 0, 1, 0, 1, 1, 1, 0, 1, 1, 0, 0, 1, 0, 0,\n",
              "       0, 0, 1, 0, 0, 0, 1, 0, 1, 0, 1, 1, 0, 1, 0, 0, 0, 0, 1, 1, 0, 0,\n",
              "       1, 1, 1, 0, 1, 1, 1, 1, 1, 0, 0, 1, 1, 0, 1, 1, 0, 0, 1, 0, 1, 1,\n",
              "       1, 1, 0, 1, 1, 1, 1, 1, 0, 1, 0, 0, 0, 0, 0, 0, 0, 0, 0, 0, 0, 0,\n",
              "       0, 0, 1, 1, 1, 1, 1, 1, 0, 1, 0, 1, 1, 0, 1, 1, 0, 1, 0, 0, 1, 1,\n",
              "       1, 1, 1, 1, 1, 1, 1, 1, 1, 1, 1, 0, 1, 1, 0, 1, 0, 1, 1, 1, 1, 1,\n",
              "       1, 1, 1, 1, 1, 1, 1, 1, 1, 0, 1, 1, 1, 0, 1, 0, 1, 1, 1, 1, 0, 0,\n",
              "       0, 1, 1, 1, 1, 0, 1, 0, 1, 0, 1, 1, 1, 0, 1, 1, 1, 1, 1, 1, 1, 0,\n",
              "       0, 0, 1, 1, 1, 1, 1, 1, 1, 1, 1, 1, 1, 0, 0, 1, 0, 0, 0, 1, 0, 0,\n",
              "       1, 1, 1, 1, 1, 0, 1, 1, 1, 1, 1, 0, 1, 1, 1, 0, 1, 1, 0, 0, 1, 1,\n",
              "       1, 1, 1, 1, 0, 1, 1, 1, 1, 1, 1, 1, 0, 1, 1, 1, 1, 1, 0, 1, 1, 0,\n",
              "       1, 1, 1, 1, 1, 1, 1, 1, 1, 1, 1, 1, 0, 1, 0, 0, 1, 0, 1, 1, 1, 1,\n",
              "       1, 0, 1, 1, 0, 1, 0, 1, 1, 0, 1, 0, 1, 1, 1, 1, 1, 1, 1, 1, 0, 0,\n",
              "       1, 1, 1, 1, 1, 1, 0, 1, 1, 1, 1, 1, 1, 1, 1, 1, 1, 0, 1, 1, 1, 1,\n",
              "       1, 1, 1, 0, 1, 0, 1, 1, 0, 1, 1, 1, 1, 1, 0, 0, 1, 0, 1, 0, 1, 1,\n",
              "       1, 1, 1, 0, 1, 1, 0, 1, 0, 1, 0, 0, 1, 1, 1, 0, 1, 1, 1, 1, 1, 1,\n",
              "       1, 1, 1, 1, 1, 0, 1, 0, 0, 1, 1, 1, 1, 1, 1, 1, 1, 1, 1, 1, 1, 1,\n",
              "       1, 1, 1, 1, 1, 1, 1, 1, 1, 1, 1, 1, 0, 0, 0, 0, 0, 0, 1])"
            ]
          },
          "metadata": {
            "tags": []
          },
          "execution_count": 12
        }
      ]
    },
    {
      "cell_type": "code",
      "metadata": {
        "id": "OSoOjroc0yJP"
      },
      "source": [
        "from sklearn.model_selection import train_test_split"
      ],
      "execution_count": 13,
      "outputs": []
    },
    {
      "cell_type": "code",
      "metadata": {
        "id": "P639H7fv1Ykx"
      },
      "source": [
        "X_train, X_test, y_train, y_test = train_test_split(data.data, data.target, test_size=0.33)"
      ],
      "execution_count": 14,
      "outputs": []
    },
    {
      "cell_type": "code",
      "metadata": {
        "id": "iFTXVc3w6C5h",
        "outputId": "eb8741a8-3a54-4cf3-90f2-58c113e5bb67",
        "colab": {
          "base_uri": "https://localhost:8080/",
          "height": 34
        }
      },
      "source": [
        "N, D = X_train.shape\n",
        "print(f'N -> {N}, D -> {D}')"
      ],
      "execution_count": 15,
      "outputs": [
        {
          "output_type": "stream",
          "text": [
            "N -> 381, D -> 30\n"
          ],
          "name": "stdout"
        }
      ]
    },
    {
      "cell_type": "code",
      "metadata": {
        "id": "lu5WpBcC9pzx"
      },
      "source": [
        "# Scale the data\n",
        "from sklearn.preprocessing import StandardScaler\n",
        "scaler = StandardScaler()\n",
        "X_train = scaler.fit_transform(X_train)\n",
        "X_test = scaler.transform(X_test)"
      ],
      "execution_count": 16,
      "outputs": []
    },
    {
      "cell_type": "code",
      "metadata": {
        "id": "NlzQ0p8q-noJ",
        "outputId": "97fad803-a04c-4ecf-db1f-79ca46bce6d3",
        "colab": {
          "base_uri": "https://localhost:8080/",
          "height": 85
        }
      },
      "source": [
        "# Build the model\n",
        "model = tf.keras.models.Sequential([\n",
        "  tf.keras.layers.Input(shape=(D,)),\n",
        "  tf.keras.layers.Dense(1,activation='sigmoid')\n",
        "])\n",
        "\n",
        "# Compile the model\n",
        "model.compile(optimizer='adam',loss='binary_crossentropy',metrics=['accuracy'])\n",
        "\n",
        "# Train the model\n",
        "r = model.fit(X_train,y_train,validation_data=(X_test,y_test),epochs=250,verbose=0)\n",
        "\n",
        "# Evaluate the model\n",
        "print(f'Train score: {model.evaluate(X_train,y_train)}')\n",
        "print(f'Test score: {model.evaluate(X_test,y_test)}')"
      ],
      "execution_count": 17,
      "outputs": [
        {
          "output_type": "stream",
          "text": [
            "12/12 [==============================] - 0s 1ms/step - loss: 0.0733 - accuracy: 0.9843\n",
            "Train score: [0.07333393394947052, 0.9842519760131836]\n",
            "6/6 [==============================] - 0s 1ms/step - loss: 0.0503 - accuracy: 0.9894\n",
            "Test score: [0.05029953271150589, 0.9893617033958435]\n"
          ],
          "name": "stdout"
        }
      ]
    },
    {
      "cell_type": "markdown",
      "metadata": {
        "id": "kkJxbswdojpy"
      },
      "source": [
        "The table below shows the accuracy when the number of epoch changes\n",
        "\n",
        "| Epochs | Train Accuracy | Test Accuracy |\n",
        "| ---:   | :-----------:  | :-----------: |\n",
        "| 5      |     0.816      |    0.792      |\n",
        "| 10     |     0.916      |    0.936      | \n",
        "| 100    |     0.960      |    0.978      | \n",
        "| 500    |     0.984      |    0.984     |"
      ]
    },
    {
      "cell_type": "code",
      "metadata": {
        "id": "IbjsU1EUUw5D",
        "outputId": "4651dfe1-a9ac-4701-e062-df03a256bd03",
        "colab": {
          "base_uri": "https://localhost:8080/",
          "height": 34
        }
      },
      "source": [
        "# History is a dictionary\n",
        "#\n",
        "type(r)"
      ],
      "execution_count": 18,
      "outputs": [
        {
          "output_type": "execute_result",
          "data": {
            "text/plain": [
              "tensorflow.python.keras.callbacks.History"
            ]
          },
          "metadata": {
            "tags": []
          },
          "execution_count": 18
        }
      ]
    },
    {
      "cell_type": "code",
      "metadata": {
        "id": "nKU7KjbfU07S",
        "outputId": "14002e2b-1852-4f3e-ecc8-8386d0043c77",
        "colab": {
          "base_uri": "https://localhost:8080/",
          "height": 34
        }
      },
      "source": [
        "# Print the keys in History object\n",
        "#\n",
        "print(r.history.keys())"
      ],
      "execution_count": 19,
      "outputs": [
        {
          "output_type": "stream",
          "text": [
            "dict_keys(['loss', 'accuracy', 'val_loss', 'val_accuracy'])\n"
          ],
          "name": "stdout"
        }
      ]
    },
    {
      "cell_type": "code",
      "metadata": {
        "id": "odZBrs7AExp3",
        "outputId": "9cdab99e-5690-4245-eccc-d347359d6103",
        "colab": {
          "base_uri": "https://localhost:8080/",
          "height": 54
        }
      },
      "source": [
        "print(r.history['loss'])"
      ],
      "execution_count": 20,
      "outputs": [
        {
          "output_type": "stream",
          "text": [
            "[0.7483106255531311, 0.677595317363739, 0.6186171174049377, 0.5650261640548706, 0.5220751762390137, 0.4843981862068176, 0.45209941267967224, 0.42316293716430664, 0.39927220344543457, 0.37771132588386536, 0.3591921031475067, 0.34230539202690125, 0.3272930681705475, 0.31345656514167786, 0.30149275064468384, 0.29027900099754333, 0.27987921237945557, 0.2707430124282837, 0.26225265860557556, 0.254289448261261, 0.24686256051063538, 0.24012582004070282, 0.2338894009590149, 0.22797375917434692, 0.22232697904109955, 0.2172730565071106, 0.2124544084072113, 0.20782418549060822, 0.20358434319496155, 0.1994817554950714, 0.19560740888118744, 0.1919255554676056, 0.18852077424526215, 0.18524298071861267, 0.18209238350391388, 0.17910337448120117, 0.1762426793575287, 0.1734819859266281, 0.17094647884368896, 0.16842126846313477, 0.16612762212753296, 0.16378101706504822, 0.16157804429531097, 0.1594335436820984, 0.15750303864479065, 0.15555359423160553, 0.1535624861717224, 0.1517825573682785, 0.15003584325313568, 0.14840984344482422, 0.14675980806350708, 0.1451246738433838, 0.1436326503753662, 0.1421518623828888, 0.14070840179920197, 0.13937698304653168, 0.13801410794258118, 0.13672566413879395, 0.13544657826423645, 0.13423286378383636, 0.1330886334180832, 0.13188783824443817, 0.13074712455272675, 0.1296755075454712, 0.12861000001430511, 0.12759160995483398, 0.12653659284114838, 0.12560978531837463, 0.12465234845876694, 0.12371593713760376, 0.12277324497699738, 0.1219271644949913, 0.12107846885919571, 0.12021934986114502, 0.11939011514186859, 0.11860691010951996, 0.11783190071582794, 0.11708421260118484, 0.1162773072719574, 0.11557094752788544, 0.11486740410327911, 0.11414264887571335, 0.11348939687013626, 0.11282584816217422, 0.11213984340429306, 0.11150584369897842, 0.11091183871030807, 0.11032707244157791, 0.10967057198286057, 0.109087273478508, 0.1085139662027359, 0.10794089734554291, 0.10738526284694672, 0.10684911906719208, 0.10630657523870468, 0.10581114888191223, 0.10527022182941437, 0.10476943105459213, 0.10428709536790848, 0.10379357635974884, 0.10327151417732239, 0.10283870995044708, 0.1023821011185646, 0.10189618170261383, 0.10147545486688614, 0.10103820264339447, 0.10058439522981644, 0.10020432621240616, 0.09976836293935776, 0.09936753660440445, 0.09896616637706757, 0.09856930375099182, 0.09815410524606705, 0.09778860211372375, 0.09742862731218338, 0.0970332995057106, 0.09671894460916519, 0.09631962329149246, 0.09596937149763107, 0.09562497586011887, 0.09530042856931686, 0.09492579102516174, 0.09459264576435089, 0.09430768340826035, 0.09393409639596939, 0.09368637949228287, 0.0933142602443695, 0.09303682297468185, 0.09271993488073349, 0.09243378788232803, 0.09211384505033493, 0.0918172225356102, 0.09152870625257492, 0.0912761464715004, 0.09100986272096634, 0.09068369120359421, 0.09044606238603592, 0.09015581756830215, 0.08990757167339325, 0.0896361917257309, 0.08940878510475159, 0.08918838948011398, 0.08888119459152222, 0.0886196717619896, 0.08839698135852814, 0.08815544843673706, 0.08792789280414581, 0.08767697960138321, 0.08744605630636215, 0.08724003285169601, 0.08701708167791367, 0.08682268857955933, 0.08656635135412216, 0.08634629100561142, 0.08610878139734268, 0.08590814471244812, 0.0857362449169159, 0.08549214899539948, 0.08528269082307816, 0.08510112762451172, 0.08490166813135147, 0.08469580113887787, 0.08451205492019653, 0.0843205526471138, 0.0841013491153717, 0.0839136466383934, 0.0837346613407135, 0.08357766270637512, 0.08335629850625992, 0.08320264518260956, 0.08303620666265488, 0.08284573256969452, 0.08267152309417725, 0.0824989303946495, 0.0823354423046112, 0.08215375989675522, 0.08198445290327072, 0.08185160160064697, 0.08168277889490128, 0.08149123191833496, 0.08133888989686966, 0.08118578791618347, 0.0810011625289917, 0.08088184893131256, 0.08074629306793213, 0.08055689185857773, 0.08040467649698257, 0.08027409762144089, 0.0801430344581604, 0.07997530698776245, 0.07982129603624344, 0.079800084233284, 0.07956868410110474, 0.07942551374435425, 0.07928717136383057, 0.07913833111524582, 0.07899300754070282, 0.07889650017023087, 0.07874850928783417, 0.07860945910215378, 0.07848965376615524, 0.07834125310182571, 0.07824249565601349, 0.07810669392347336, 0.07797415554523468, 0.07785777747631073, 0.07773171365261078, 0.07762441039085388, 0.07748357951641083, 0.07739163935184479, 0.0772768035531044, 0.0771409198641777, 0.07703394442796707, 0.0769222304224968, 0.07681693136692047, 0.07666876912117004, 0.0766025185585022, 0.07647046446800232, 0.07635746896266937, 0.07625000178813934, 0.07614479959011078, 0.07605118304491043, 0.07593000680208206, 0.07583723962306976, 0.07574114203453064, 0.07564868777990341, 0.0755227729678154, 0.07542532682418823, 0.0753406509757042, 0.07524463534355164, 0.07516114413738251, 0.075034499168396, 0.07492748647928238, 0.07483021914958954, 0.07475244253873825, 0.07466806471347809, 0.0745711475610733, 0.07445830851793289, 0.07437041401863098, 0.07428178936243057, 0.07419838756322861, 0.0741383507847786, 0.07400739938020706, 0.07391826063394547, 0.0738401934504509, 0.07380085438489914, 0.07370930910110474, 0.07361939549446106, 0.07350313663482666, 0.07341361045837402]\n"
          ],
          "name": "stdout"
        }
      ]
    },
    {
      "cell_type": "code",
      "metadata": {
        "id": "pEFrRJPSL_AT",
        "outputId": "2d4fe8e1-34f5-412c-dd55-af12361d7c18",
        "colab": {
          "base_uri": "https://localhost:8080/",
          "height": 282
        }
      },
      "source": [
        "import matplotlib.pyplot as plt\n",
        "plt.plot(r.history['loss'],label='loss')\n",
        "plt.plot(r.history['val_loss'],label='val_loss')\n",
        "plt.legend()"
      ],
      "execution_count": 21,
      "outputs": [
        {
          "output_type": "execute_result",
          "data": {
            "text/plain": [
              "<matplotlib.legend.Legend at 0x7f9e8709f208>"
            ]
          },
          "metadata": {
            "tags": []
          },
          "execution_count": 21
        },
        {
          "output_type": "display_data",
          "data": {
            "image/png": "[encoded data removed]",
            "text/plain": [
              "<Figure size 432x288 with 1 Axes>"
            ]
          },
          "metadata": {
            "tags": [],
            "needs_background": "light"
          }
        }
      ]
    },
    {
      "cell_type": "code",
      "metadata": {
        "id": "WPUs0KJgMa3E",
        "outputId": "5e76bc4e-387a-4ada-8ebe-bf3b05fe7452",
        "colab": {
          "base_uri": "https://localhost:8080/",
          "height": 282
        }
      },
      "source": [
        "import matplotlib.pyplot as plt\n",
        "plt.plot(r.history['accuracy'],label='accuracy')\n",
        "plt.plot(r.history['val_accuracy'],label='val_accuracy')\n",
        "plt.legend()"
      ],
      "execution_count": 22,
      "outputs": [
        {
          "output_type": "execute_result",
          "data": {
            "text/plain": [
              "<matplotlib.legend.Legend at 0x7f9e88005240>"
            ]
          },
          "metadata": {
            "tags": []
          },
          "execution_count": 22
        },
        {
          "output_type": "display_data",
          "data": {
            "image/png": "[encoded data removed]",
            "text/plain": [
              "<Figure size 432x288 with 1 Axes>"
            ]
          },
          "metadata": {
            "tags": [],
            "needs_background": "light"
          }
        }
      ]
    },
    {
      "cell_type": "markdown",
      "metadata": {
        "id": "ljH3epi7IJ-J"
      },
      "source": [
        "### Predicting"
      ]
    },
    {
      "cell_type": "code",
      "metadata": {
        "id": "kaD9O5axIMfu",
        "outputId": "371cbcb7-7985-41c5-dfa8-1fe4dcf3852c",
        "colab": {
          "base_uri": "https://localhost:8080/",
          "height": 187
        }
      },
      "source": [
        "# Make predictions\n",
        "P = model.predict(X_test) \n",
        "print(P[0:10]) # the are outputs of the sigmoid, interpreted as probabilities p(y = 1 | x)"
      ],
      "execution_count": 26,
      "outputs": [
        {
          "output_type": "stream",
          "text": [
            "[[9.7594386e-01]\n",
            " [1.2310325e-04]\n",
            " [9.8444271e-01]\n",
            " [9.9080288e-01]\n",
            " [2.0368993e-03]\n",
            " [9.9734282e-01]\n",
            " [6.2351441e-01]\n",
            " [6.5449726e-06]\n",
            " [9.9996364e-01]\n",
            " [9.9987888e-01]]\n"
          ],
          "name": "stdout"
        }
      ]
    },
    {
      "cell_type": "code",
      "metadata": {
        "id": "p0is6ix9KGg4",
        "outputId": "9e2d06ae-7f23-4bf7-9c15-a9d336ce21f6",
        "colab": {
          "base_uri": "https://localhost:8080/",
          "height": 34
        }
      },
      "source": [
        "print(P.shape)"
      ],
      "execution_count": 27,
      "outputs": [
        {
          "output_type": "stream",
          "text": [
            "(188, 1)\n"
          ],
          "name": "stdout"
        }
      ]
    },
    {
      "cell_type": "code",
      "metadata": {
        "id": "TOZcbwxhI9B1"
      },
      "source": [
        "# Round to get the actual predictions\n",
        "# Note: P has to be flattened since the targets are size (N,) while the predictions are size (N,1)\n",
        "import numpy as np\n",
        "P = np.round(P).flatten()"
      ],
      "execution_count": 32,
      "outputs": []
    },
    {
      "cell_type": "code",
      "metadata": {
        "id": "wo5IJFPWKUlp",
        "outputId": "d22dd591-54a2-41d5-e5bc-50e9c3256ff2",
        "colab": {
          "base_uri": "https://localhost:8080/",
          "height": 34
        }
      },
      "source": [
        "print(P[0:10])"
      ],
      "execution_count": 33,
      "outputs": [
        {
          "output_type": "stream",
          "text": [
            "[1. 0. 1. 1. 0. 1. 1. 0. 1. 1.]\n"
          ],
          "name": "stdout"
        }
      ]
    },
    {
      "cell_type": "code",
      "metadata": {
        "id": "3MsxSfNbLQJx",
        "outputId": "f47d1690-ec10-467b-e0b5-0acfd594b8d8",
        "colab": {
          "base_uri": "https://localhost:8080/",
          "height": 68
        }
      },
      "source": [
        "# Calculate the accuracy, compare it to evaluate() output\n",
        "print(\"Manually calculate accuracy:\", np.mean(P == y_test))\n",
        "print(\"Evaluate output\", model.evaluate(X_test,y_test))"
      ],
      "execution_count": 35,
      "outputs": [
        {
          "output_type": "stream",
          "text": [
            "Manually calculate accuracy: 0.9893617021276596\n",
            "6/6 [==============================] - 0s 1ms/step - loss: 0.0503 - accuracy: 0.9894\n",
            "Evaluate output [0.05029953271150589, 0.9893617033958435]\n"
          ],
          "name": "stdout"
        }
      ]
    }
  ]
}