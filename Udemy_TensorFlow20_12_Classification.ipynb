{
  "nbformat": 4,
  "nbformat_minor": 0,
  "metadata": {
    "colab": {
      "name": "Udemy_TensorFlow20_12_Classification.ipynb",
      "provenance": [],
      "collapsed_sections": [],
      "authorship_tag": "ABX9TyMS9TTLnN4DC+iZlXX4faxD",
      "include_colab_link": true
    },
    "kernelspec": {
      "name": "python3",
      "display_name": "Python 3"
    }
  },
  "cells": [
    {
      "cell_type": "markdown",
      "metadata": {
        "id": "view-in-github",
        "colab_type": "text"
      },
      "source": [
        "<a href=\"https://colab.research.google.com/github/beneditomacedo/dl_notebooks/blob/master/Udemy_TensorFlow20_12_Classification.ipynb\" target=\"_parent\"><img src=\"https://colab.research.google.com/assets/colab-badge.svg\" alt=\"Open In Colab\"/></a>"
      ]
    },
    {
      "cell_type": "markdown",
      "metadata": {
        "id": "RN4Zb0h2rfAl"
      },
      "source": [
        "Udemy: Tensorflow 2.0: Deep Learning and Artificial Intelligence\n",
        "available at: https://www.udemy.com/course/deep-learning-tensorflow-2/learn/lecture/15397338#overview"
      ]
    },
    {
      "cell_type": "code",
      "metadata": {
        "id": "ltJ5tn6or3SK",
        "outputId": "9e31724a-c372-4abb-9514-bc406fd0bb86",
        "colab": {
          "base_uri": "https://localhost:8080/",
          "height": 34
        }
      },
      "source": [
        "import tensorflow as tf\n",
        "print(tf.__version__)"
      ],
      "execution_count": 1,
      "outputs": [
        {
          "output_type": "stream",
          "text": [
            "2.3.0\n"
          ],
          "name": "stdout"
        }
      ]
    },
    {
      "cell_type": "code",
      "metadata": {
        "id": "vOXvKD9qrbVA"
      },
      "source": [
        "# Load in data\n",
        "from sklearn.datasets import load_breast_cancer"
      ],
      "execution_count": 2,
      "outputs": []
    },
    {
      "cell_type": "code",
      "metadata": {
        "id": "zfy6RaG3sQ7o"
      },
      "source": [
        "# Load dataset\n",
        "data = load_breast_cancer()"
      ],
      "execution_count": 3,
      "outputs": []
    },
    {
      "cell_type": "code",
      "metadata": {
        "id": "USq5_KRwsYyo",
        "outputId": "a986ba52-6dd4-41f7-dbc4-81609765460d",
        "colab": {
          "base_uri": "https://localhost:8080/",
          "height": 34
        }
      },
      "source": [
        "# check the data type\n",
        "type(data)"
      ],
      "execution_count": 4,
      "outputs": [
        {
          "output_type": "execute_result",
          "data": {
            "text/plain": [
              "sklearn.utils.Bunch"
            ]
          },
          "metadata": {
            "tags": []
          },
          "execution_count": 4
        }
      ]
    },
    {
      "cell_type": "code",
      "metadata": {
        "id": "gfhsA-4jtNMO",
        "outputId": "4fe2d25a-b8b7-461d-be8c-810db672556c",
        "colab": {
          "base_uri": "https://localhost:8080/",
          "height": 34
        }
      },
      "source": [
        "# bunch is similiar to a dictionary\n",
        "data.keys()"
      ],
      "execution_count": 5,
      "outputs": [
        {
          "output_type": "execute_result",
          "data": {
            "text/plain": [
              "dict_keys(['data', 'target', 'target_names', 'DESCR', 'feature_names', 'filename'])"
            ]
          },
          "metadata": {
            "tags": []
          },
          "execution_count": 5
        }
      ]
    },
    {
      "cell_type": "code",
      "metadata": {
        "id": "KZFUrRyLuLQL",
        "outputId": "e0fa60eb-ead7-42c7-f39e-db467666c23d",
        "colab": {
          "base_uri": "https://localhost:8080/",
          "height": 1000
        }
      },
      "source": [
        "print(data.DESCR)"
      ],
      "execution_count": 6,
      "outputs": [
        {
          "output_type": "stream",
          "text": [
            ".. _breast_cancer_dataset:\n",
            "\n",
            "Breast cancer wisconsin (diagnostic) dataset\n",
            "--------------------------------------------\n",
            "\n",
            "**Data Set Characteristics:**\n",
            "\n",
            "    :Number of Instances: 569\n",
            "\n",
            "    :Number of Attributes: 30 numeric, predictive attributes and the class\n",
            "\n",
            "    :Attribute Information:\n",
            "        - radius (mean of distances from center to points on the perimeter)\n",
            "        - texture (standard deviation of gray-scale values)\n",
            "        - perimeter\n",
            "        - area\n",
            "        - smoothness (local variation in radius lengths)\n",
            "        - compactness (perimeter^2 / area - 1.0)\n",
            "        - concavity (severity of concave portions of the contour)\n",
            "        - concave points (number of concave portions of the contour)\n",
            "        - symmetry \n",
            "        - fractal dimension (\"coastline approximation\" - 1)\n",
            "\n",
            "        The mean, standard error, and \"worst\" or largest (mean of the three\n",
            "        largest values) of these features were computed for each image,\n",
            "        resulting in 30 features.  For instance, field 3 is Mean Radius, field\n",
            "        13 is Radius SE, field 23 is Worst Radius.\n",
            "\n",
            "        - class:\n",
            "                - WDBC-Malignant\n",
            "                - WDBC-Benign\n",
            "\n",
            "    :Summary Statistics:\n",
            "\n",
            "    ===================================== ====== ======\n",
            "                                           Min    Max\n",
            "    ===================================== ====== ======\n",
            "    radius (mean):                        6.981  28.11\n",
            "    texture (mean):                       9.71   39.28\n",
            "    perimeter (mean):                     43.79  188.5\n",
            "    area (mean):                          143.5  2501.0\n",
            "    smoothness (mean):                    0.053  0.163\n",
            "    compactness (mean):                   0.019  0.345\n",
            "    concavity (mean):                     0.0    0.427\n",
            "    concave points (mean):                0.0    0.201\n",
            "    symmetry (mean):                      0.106  0.304\n",
            "    fractal dimension (mean):             0.05   0.097\n",
            "    radius (standard error):              0.112  2.873\n",
            "    texture (standard error):             0.36   4.885\n",
            "    perimeter (standard error):           0.757  21.98\n",
            "    area (standard error):                6.802  542.2\n",
            "    smoothness (standard error):          0.002  0.031\n",
            "    compactness (standard error):         0.002  0.135\n",
            "    concavity (standard error):           0.0    0.396\n",
            "    concave points (standard error):      0.0    0.053\n",
            "    symmetry (standard error):            0.008  0.079\n",
            "    fractal dimension (standard error):   0.001  0.03\n",
            "    radius (worst):                       7.93   36.04\n",
            "    texture (worst):                      12.02  49.54\n",
            "    perimeter (worst):                    50.41  251.2\n",
            "    area (worst):                         185.2  4254.0\n",
            "    smoothness (worst):                   0.071  0.223\n",
            "    compactness (worst):                  0.027  1.058\n",
            "    concavity (worst):                    0.0    1.252\n",
            "    concave points (worst):               0.0    0.291\n",
            "    symmetry (worst):                     0.156  0.664\n",
            "    fractal dimension (worst):            0.055  0.208\n",
            "    ===================================== ====== ======\n",
            "\n",
            "    :Missing Attribute Values: None\n",
            "\n",
            "    :Class Distribution: 212 - Malignant, 357 - Benign\n",
            "\n",
            "    :Creator:  Dr. William H. Wolberg, W. Nick Street, Olvi L. Mangasarian\n",
            "\n",
            "    :Donor: Nick Street\n",
            "\n",
            "    :Date: November, 1995\n",
            "\n",
            "This is a copy of UCI ML Breast Cancer Wisconsin (Diagnostic) datasets.\n",
            "https://goo.gl/U2Uwz2\n",
            "\n",
            "Features are computed from a digitized image of a fine needle\n",
            "aspirate (FNA) of a breast mass.  They describe\n",
            "characteristics of the cell nuclei present in the image.\n",
            "\n",
            "Separating plane described above was obtained using\n",
            "Multisurface Method-Tree (MSM-T) [K. P. Bennett, \"Decision Tree\n",
            "Construction Via Linear Programming.\" Proceedings of the 4th\n",
            "Midwest Artificial Intelligence and Cognitive Science Society,\n",
            "pp. 97-101, 1992], a classification method which uses linear\n",
            "programming to construct a decision tree.  Relevant features\n",
            "were selected using an exhaustive search in the space of 1-4\n",
            "features and 1-3 separating planes.\n",
            "\n",
            "The actual linear program used to obtain the separating plane\n",
            "in the 3-dimensional space is that described in:\n",
            "[K. P. Bennett and O. L. Mangasarian: \"Robust Linear\n",
            "Programming Discrimination of Two Linearly Inseparable Sets\",\n",
            "Optimization Methods and Software 1, 1992, 23-34].\n",
            "\n",
            "This database is also available through the UW CS ftp server:\n",
            "\n",
            "ftp ftp.cs.wisc.edu\n",
            "cd math-prog/cpo-dataset/machine-learn/WDBC/\n",
            "\n",
            ".. topic:: References\n",
            "\n",
            "   - W.N. Street, W.H. Wolberg and O.L. Mangasarian. Nuclear feature extraction \n",
            "     for breast tumor diagnosis. IS&T/SPIE 1993 International Symposium on \n",
            "     Electronic Imaging: Science and Technology, volume 1905, pages 861-870,\n",
            "     San Jose, CA, 1993.\n",
            "   - O.L. Mangasarian, W.N. Street and W.H. Wolberg. Breast cancer diagnosis and \n",
            "     prognosis via linear programming. Operations Research, 43(4), pages 570-577, \n",
            "     July-August 1995.\n",
            "   - W.H. Wolberg, W.N. Street, and O.L. Mangasarian. Machine learning techniques\n",
            "     to diagnose breast cancer from fine-needle aspirates. Cancer Letters 77 (1994) \n",
            "     163-171.\n"
          ],
          "name": "stdout"
        }
      ]
    },
    {
      "cell_type": "code",
      "metadata": {
        "id": "LdXcHXlxvClB",
        "outputId": "5b512fe3-13f2-4cda-87f9-e3a8659e42df",
        "colab": {
          "base_uri": "https://localhost:8080/",
          "height": 187
        }
      },
      "source": [
        "# show the feature names\n",
        "data.feature_names"
      ],
      "execution_count": 7,
      "outputs": [
        {
          "output_type": "execute_result",
          "data": {
            "text/plain": [
              "array(['mean radius', 'mean texture', 'mean perimeter', 'mean area',\n",
              "       'mean smoothness', 'mean compactness', 'mean concavity',\n",
              "       'mean concave points', 'mean symmetry', 'mean fractal dimension',\n",
              "       'radius error', 'texture error', 'perimeter error', 'area error',\n",
              "       'smoothness error', 'compactness error', 'concavity error',\n",
              "       'concave points error', 'symmetry error',\n",
              "       'fractal dimension error', 'worst radius', 'worst texture',\n",
              "       'worst perimeter', 'worst area', 'worst smoothness',\n",
              "       'worst compactness', 'worst concavity', 'worst concave points',\n",
              "       'worst symmetry', 'worst fractal dimension'], dtype='<U23')"
            ]
          },
          "metadata": {
            "tags": []
          },
          "execution_count": 7
        }
      ]
    },
    {
      "cell_type": "code",
      "metadata": {
        "id": "5DR2vjqquzeq",
        "outputId": "8ef67a13-7ca9-403f-8014-7d0da2abcc8a",
        "colab": {
          "base_uri": "https://localhost:8080/",
          "height": 34
        }
      },
      "source": [
        "# show the data shape\n",
        "data.data.shape"
      ],
      "execution_count": 8,
      "outputs": [
        {
          "output_type": "execute_result",
          "data": {
            "text/plain": [
              "(569, 30)"
            ]
          },
          "metadata": {
            "tags": []
          },
          "execution_count": 8
        }
      ]
    },
    {
      "cell_type": "code",
      "metadata": {
        "id": "rhsc90YyxoMy",
        "outputId": "8a33c2f1-0057-4d59-c91f-3f2535d70f0f",
        "colab": {
          "base_uri": "https://localhost:8080/",
          "height": 102
        }
      },
      "source": [
        "data.data[1]"
      ],
      "execution_count": 9,
      "outputs": [
        {
          "output_type": "execute_result",
          "data": {
            "text/plain": [
              "array([2.057e+01, 1.777e+01, 1.329e+02, 1.326e+03, 8.474e-02, 7.864e-02,\n",
              "       8.690e-02, 7.017e-02, 1.812e-01, 5.667e-02, 5.435e-01, 7.339e-01,\n",
              "       3.398e+00, 7.408e+01, 5.225e-03, 1.308e-02, 1.860e-02, 1.340e-02,\n",
              "       1.389e-02, 3.532e-03, 2.499e+01, 2.341e+01, 1.588e+02, 1.956e+03,\n",
              "       1.238e-01, 1.866e-01, 2.416e-01, 1.860e-01, 2.750e-01, 8.902e-02])"
            ]
          },
          "metadata": {
            "tags": []
          },
          "execution_count": 9
        }
      ]
    },
    {
      "cell_type": "code",
      "metadata": {
        "id": "y3S19TbFv6YB",
        "outputId": "cd17dddd-f529-4209-dbc8-80b30718239e",
        "colab": {
          "base_uri": "https://localhost:8080/",
          "height": 34
        }
      },
      "source": [
        "# show the target names\n",
        "data.target_names"
      ],
      "execution_count": 10,
      "outputs": [
        {
          "output_type": "execute_result",
          "data": {
            "text/plain": [
              "array(['malignant', 'benign'], dtype='<U9')"
            ]
          },
          "metadata": {
            "tags": []
          },
          "execution_count": 10
        }
      ]
    },
    {
      "cell_type": "code",
      "metadata": {
        "id": "pavZ5tiWzdiS",
        "outputId": "a70362ab-2466-47fc-f3d3-674cea8ab5e5",
        "colab": {
          "base_uri": "https://localhost:8080/",
          "height": 34
        }
      },
      "source": [
        "# show the target shape\n",
        "data.target.shape"
      ],
      "execution_count": 11,
      "outputs": [
        {
          "output_type": "execute_result",
          "data": {
            "text/plain": [
              "(569,)"
            ]
          },
          "metadata": {
            "tags": []
          },
          "execution_count": 11
        }
      ]
    },
    {
      "cell_type": "code",
      "metadata": {
        "id": "5yhne81vyhzt",
        "outputId": "304b460f-a0fa-4840-e673-e242183cf65a",
        "colab": {
          "base_uri": "https://localhost:8080/",
          "height": 459
        }
      },
      "source": [
        "# show the target data\n",
        "data.target"
      ],
      "execution_count": 12,
      "outputs": [
        {
          "output_type": "execute_result",
          "data": {
            "text/plain": [
              "array([0, 0, 0, 0, 0, 0, 0, 0, 0, 0, 0, 0, 0, 0, 0, 0, 0, 0, 0, 1, 1, 1,\n",
              "       0, 0, 0, 0, 0, 0, 0, 0, 0, 0, 0, 0, 0, 0, 0, 1, 0, 0, 0, 0, 0, 0,\n",
              "       0, 0, 1, 0, 1, 1, 1, 1, 1, 0, 0, 1, 0, 0, 1, 1, 1, 1, 0, 1, 0, 0,\n",
              "       1, 1, 1, 1, 0, 1, 0, 0, 1, 0, 1, 0, 0, 1, 1, 1, 0, 0, 1, 0, 0, 0,\n",
              "       1, 1, 1, 0, 1, 1, 0, 0, 1, 1, 1, 0, 0, 1, 1, 1, 1, 0, 1, 1, 0, 1,\n",
              "       1, 1, 1, 1, 1, 1, 1, 0, 0, 0, 1, 0, 0, 1, 1, 1, 0, 0, 1, 0, 1, 0,\n",
              "       0, 1, 0, 0, 1, 1, 0, 1, 1, 0, 1, 1, 1, 1, 0, 1, 1, 1, 1, 1, 1, 1,\n",
              "       1, 1, 0, 1, 1, 1, 1, 0, 0, 1, 0, 1, 1, 0, 0, 1, 1, 0, 0, 1, 1, 1,\n",
              "       1, 0, 1, 1, 0, 0, 0, 1, 0, 1, 0, 1, 1, 1, 0, 1, 1, 0, 0, 1, 0, 0,\n",
              "       0, 0, 1, 0, 0, 0, 1, 0, 1, 0, 1, 1, 0, 1, 0, 0, 0, 0, 1, 1, 0, 0,\n",
              "       1, 1, 1, 0, 1, 1, 1, 1, 1, 0, 0, 1, 1, 0, 1, 1, 0, 0, 1, 0, 1, 1,\n",
              "       1, 1, 0, 1, 1, 1, 1, 1, 0, 1, 0, 0, 0, 0, 0, 0, 0, 0, 0, 0, 0, 0,\n",
              "       0, 0, 1, 1, 1, 1, 1, 1, 0, 1, 0, 1, 1, 0, 1, 1, 0, 1, 0, 0, 1, 1,\n",
              "       1, 1, 1, 1, 1, 1, 1, 1, 1, 1, 1, 0, 1, 1, 0, 1, 0, 1, 1, 1, 1, 1,\n",
              "       1, 1, 1, 1, 1, 1, 1, 1, 1, 0, 1, 1, 1, 0, 1, 0, 1, 1, 1, 1, 0, 0,\n",
              "       0, 1, 1, 1, 1, 0, 1, 0, 1, 0, 1, 1, 1, 0, 1, 1, 1, 1, 1, 1, 1, 0,\n",
              "       0, 0, 1, 1, 1, 1, 1, 1, 1, 1, 1, 1, 1, 0, 0, 1, 0, 0, 0, 1, 0, 0,\n",
              "       1, 1, 1, 1, 1, 0, 1, 1, 1, 1, 1, 0, 1, 1, 1, 0, 1, 1, 0, 0, 1, 1,\n",
              "       1, 1, 1, 1, 0, 1, 1, 1, 1, 1, 1, 1, 0, 1, 1, 1, 1, 1, 0, 1, 1, 0,\n",
              "       1, 1, 1, 1, 1, 1, 1, 1, 1, 1, 1, 1, 0, 1, 0, 0, 1, 0, 1, 1, 1, 1,\n",
              "       1, 0, 1, 1, 0, 1, 0, 1, 1, 0, 1, 0, 1, 1, 1, 1, 1, 1, 1, 1, 0, 0,\n",
              "       1, 1, 1, 1, 1, 1, 0, 1, 1, 1, 1, 1, 1, 1, 1, 1, 1, 0, 1, 1, 1, 1,\n",
              "       1, 1, 1, 0, 1, 0, 1, 1, 0, 1, 1, 1, 1, 1, 0, 0, 1, 0, 1, 0, 1, 1,\n",
              "       1, 1, 1, 0, 1, 1, 0, 1, 0, 1, 0, 0, 1, 1, 1, 0, 1, 1, 1, 1, 1, 1,\n",
              "       1, 1, 1, 1, 1, 0, 1, 0, 0, 1, 1, 1, 1, 1, 1, 1, 1, 1, 1, 1, 1, 1,\n",
              "       1, 1, 1, 1, 1, 1, 1, 1, 1, 1, 1, 1, 0, 0, 0, 0, 0, 0, 1])"
            ]
          },
          "metadata": {
            "tags": []
          },
          "execution_count": 12
        }
      ]
    },
    {
      "cell_type": "code",
      "metadata": {
        "id": "OSoOjroc0yJP"
      },
      "source": [
        "from sklearn.model_selection import train_test_split"
      ],
      "execution_count": 13,
      "outputs": []
    },
    {
      "cell_type": "code",
      "metadata": {
        "id": "P639H7fv1Ykx"
      },
      "source": [
        "X_train, X_test, y_train, y_test = train_test_split(data.data, data.target, test_size=0.33)"
      ],
      "execution_count": 15,
      "outputs": []
    },
    {
      "cell_type": "code",
      "metadata": {
        "id": "iFTXVc3w6C5h",
        "outputId": "ba4d4823-3ffa-4b6e-ec69-fe312d100799",
        "colab": {
          "base_uri": "https://localhost:8080/",
          "height": 34
        }
      },
      "source": [
        "N, D = X_train.shape\n",
        "print(f'N -> {N}, D -> {D}')"
      ],
      "execution_count": 16,
      "outputs": [
        {
          "output_type": "stream",
          "text": [
            "N -> 381, D -> 30\n"
          ],
          "name": "stdout"
        }
      ]
    },
    {
      "cell_type": "code",
      "metadata": {
        "id": "lu5WpBcC9pzx"
      },
      "source": [
        "# Scale the data\n",
        "from sklearn.preprocessing import StandardScaler\n",
        "scaler = StandardScaler()\n",
        "X_train = scaler.fit_transform(X_train)\n",
        "X_test = scaler.transform(X_test)"
      ],
      "execution_count": 17,
      "outputs": []
    },
    {
      "cell_type": "code",
      "metadata": {
        "id": "NlzQ0p8q-noJ",
        "outputId": "c219e949-fe88-44f7-c7f2-0c11a6d27a98",
        "colab": {
          "base_uri": "https://localhost:8080/",
          "height": 85
        }
      },
      "source": [
        "# Build the model\n",
        "model = tf.keras.models.Sequential([\n",
        "  tf.keras.layers.Input(shape=(D,)),\n",
        "  tf.keras.layers.Dense(1,activation='sigmoid')\n",
        "])\n",
        "\n",
        "# Compile the model\n",
        "model.compile(optimizer='adam',loss='binary_crossentropy',metrics=['accuracy'])\n",
        "\n",
        "# Train the model\n",
        "r = model.fit(X_train,y_train,validation_data=(X_test,y_test),epochs=250,verbose=0)\n",
        "\n",
        "# Evaluate the model\n",
        "print(f'Train score: {model.evaluate(X_train,y_train)}')\n",
        "print(f'Test score: {model.evaluate(X_test,y_test)}')"
      ],
      "execution_count": 33,
      "outputs": [
        {
          "output_type": "stream",
          "text": [
            "12/12 [==============================] - 0s 1ms/step - loss: 0.0563 - accuracy: 0.9869\n",
            "Train score: [0.05632100999355316, 0.9868766665458679]\n",
            "6/6 [==============================] - 0s 1ms/step - loss: 0.0828 - accuracy: 0.9787\n",
            "Test score: [0.08277329802513123, 0.978723406791687]\n"
          ],
          "name": "stdout"
        }
      ]
    },
    {
      "cell_type": "markdown",
      "metadata": {
        "id": "kkJxbswdojpy"
      },
      "source": [
        "The table below shows the accuracy when the number of epoch changes\n",
        "\n",
        "| Epochs | Train Accuracy | Test Accuracy |\n",
        "| ---:   | :-----------:  | :-----------: |\n",
        "| 5      |     0.816      |    0.792      |\n",
        "| 10     |     0.916      |    0.936      | \n",
        "| 100    |     0.960      |    0.978      | \n",
        "| 500    |     0.984      |    0.984     |"
      ]
    },
    {
      "cell_type": "code",
      "metadata": {
        "id": "IbjsU1EUUw5D",
        "outputId": "8994da10-9a5d-4242-e2c3-93d96d94eca1",
        "colab": {
          "base_uri": "https://localhost:8080/",
          "height": 34
        }
      },
      "source": [
        "# History is a dictionary\n",
        "#\n",
        "type(r)"
      ],
      "execution_count": 19,
      "outputs": [
        {
          "output_type": "execute_result",
          "data": {
            "text/plain": [
              "tensorflow.python.keras.callbacks.History"
            ]
          },
          "metadata": {
            "tags": []
          },
          "execution_count": 19
        }
      ]
    },
    {
      "cell_type": "code",
      "metadata": {
        "id": "nKU7KjbfU07S",
        "outputId": "27be8f54-4fc2-48ed-b5f9-4285b8262c41",
        "colab": {
          "base_uri": "https://localhost:8080/",
          "height": 34
        }
      },
      "source": [
        "# Print the keys in History object\n",
        "#\n",
        "print(r.history.keys())"
      ],
      "execution_count": 20,
      "outputs": [
        {
          "output_type": "stream",
          "text": [
            "dict_keys(['loss', 'accuracy', 'val_loss', 'val_accuracy'])\n"
          ],
          "name": "stdout"
        }
      ]
    },
    {
      "cell_type": "code",
      "metadata": {
        "id": "odZBrs7AExp3",
        "outputId": "b0b416f6-5c60-4d70-8f98-79a4ec91e977",
        "colab": {
          "base_uri": "https://localhost:8080/",
          "height": 54
        }
      },
      "source": [
        "print(r.history['loss'])"
      ],
      "execution_count": 22,
      "outputs": [
        {
          "output_type": "stream",
          "text": [
            "[0.4412907361984253, 0.40382829308509827, 0.37261641025543213, 0.34587931632995605, 0.3224475681781769, 0.30333665013313293, 0.28563034534454346, 0.27099791169166565, 0.257684588432312, 0.2460898905992508, 0.23573938012123108, 0.22634711861610413, 0.21790114045143127, 0.2102392017841339, 0.20313331484794617, 0.19682276248931885, 0.1911398023366928, 0.18557342886924744, 0.18045003712177277, 0.17585229873657227, 0.17158450186252594, 0.16755621135234833, 0.16368989646434784, 0.1601739078760147, 0.15692058205604553, 0.15372423827648163, 0.15067988634109497, 0.14803345501422882, 0.14525315165519714, 0.1428324580192566, 0.14036151766777039, 0.1380947381258011, 0.1359950602054596, 0.13390639424324036, 0.13192200660705566, 0.1300431340932846, 0.12815314531326294, 0.12648649513721466, 0.12485838681459427, 0.12326645851135254, 0.12169307470321655, 0.12029030919075012, 0.11882613599300385, 0.11750542372465134, 0.11617138236761093, 0.1149090975522995, 0.11367859691381454, 0.11252223700284958, 0.11136914789676666, 0.11030197888612747, 0.10923656076192856, 0.10815764963626862, 0.10714858770370483, 0.10617974400520325, 0.1052374541759491, 0.10433567315340042, 0.10342604666948318, 0.10261882096529007, 0.10176363587379456, 0.10092043876647949, 0.10013796389102936, 0.09937987476587296, 0.09864861518144608, 0.09790083765983582, 0.0971914604306221, 0.0965147465467453, 0.09584109485149384, 0.09517814218997955, 0.09451249986886978, 0.0938958078622818, 0.09327059239149094, 0.09265687316656113, 0.09210453182458878, 0.09148933738470078, 0.090974822640419, 0.09037402272224426, 0.08988206088542938, 0.08934719115495682, 0.08883628994226456, 0.08830639719963074, 0.0878145843744278, 0.08735217899084091, 0.08689531683921814, 0.08638954907655716, 0.0859462097287178, 0.08548518270254135, 0.0850563645362854, 0.084639772772789, 0.08421322703361511, 0.08378957211971283, 0.08338142931461334, 0.08298051357269287, 0.08259493112564087, 0.08218216896057129, 0.08181419223546982, 0.08143109083175659, 0.08107417821884155, 0.08071044087409973, 0.08033638447523117, 0.08000639826059341, 0.07964266091585159, 0.07931771874427795, 0.07897700369358063, 0.07864609360694885, 0.07831022888422012, 0.07799661159515381, 0.0777190625667572, 0.07738860696554184, 0.07708019763231277, 0.07680710405111313, 0.07650502771139145, 0.07618806511163712, 0.07591258734464645, 0.07560945302248001, 0.07533161342144012, 0.0750819519162178, 0.07478795945644379, 0.07452310621738434, 0.074253149330616, 0.07402602583169937, 0.07375334948301315, 0.07351798564195633, 0.07325609028339386, 0.07297773659229279, 0.0727355107665062, 0.07249698787927628, 0.07230129092931747, 0.072027288377285, 0.0717816948890686, 0.07160484790802002, 0.07134395837783813, 0.07112941145896912, 0.07089696824550629, 0.07068576663732529, 0.07043369859457016, 0.07025867700576782, 0.07001640647649765, 0.06981048732995987, 0.06960024684667587, 0.0694039836525917, 0.06919050216674805, 0.06901770830154419, 0.06880657374858856, 0.0686153769493103, 0.06839452683925629, 0.06824108213186264, 0.06803418695926666, 0.0678509920835495, 0.06767299026250839, 0.06748823076486588, 0.0672907903790474, 0.06714937090873718, 0.06696305423974991, 0.06678003072738647, 0.06661467254161835, 0.06643488258123398, 0.06624895334243774, 0.06607169657945633, 0.06592260301113129, 0.0657963827252388, 0.06558968126773834, 0.06541039049625397, 0.06527853012084961, 0.06511110067367554, 0.06494268029928207, 0.06477851420640945, 0.0646604523062706, 0.06448584049940109, 0.06433762609958649, 0.06417436897754669, 0.06403885781764984, 0.06386088579893112, 0.06372854858636856, 0.06358760595321655, 0.06345896422863007, 0.06334251910448074, 0.06317094713449478, 0.06306691467761993, 0.06288333982229233, 0.06276196241378784, 0.06261919438838959, 0.06249431148171425, 0.06233741343021393, 0.062207795679569244, 0.06208857521414757, 0.06196388974785805, 0.06182584539055824, 0.06170329824090004, 0.061570607125759125, 0.06144092604517937, 0.06131943687796593, 0.0612061582505703, 0.06108501926064491, 0.06095482409000397, 0.060852520167827606, 0.06071697548031807, 0.06057966127991676, 0.06047092005610466, 0.060368239879608154, 0.06024099886417389, 0.0601707324385643, 0.06003698334097862, 0.05989215895533562, 0.0597996786236763, 0.05967282876372337, 0.059581317007541656, 0.05944741517305374, 0.05934515967965126, 0.059237536042928696, 0.05913141742348671, 0.05902586132287979, 0.05893409252166748, 0.05881525203585625, 0.058703020215034485, 0.058603137731552124, 0.058482274413108826, 0.05838856101036072, 0.058299336582422256, 0.058202117681503296, 0.058110691606998444, 0.0580180361866951, 0.05789230763912201, 0.057816050946712494, 0.05771180987358093, 0.05760310962796211, 0.05753213167190552, 0.05742771551012993, 0.057346634566783905, 0.05723539739847183, 0.05716335400938988, 0.05707194656133652, 0.056942980736494064, 0.05684836953878403, 0.05679210275411606, 0.05669219419360161, 0.05658142268657684, 0.05650158226490021, 0.05641809105873108, 0.05632278323173523, 0.05624571815133095, 0.05614886432886124, 0.05609320104122162, 0.056040436029434204, 0.055913861840963364, 0.05583563819527626, 0.05574342980980873, 0.055695515125989914, 0.05560855567455292, 0.055517543107271194, 0.05540839582681656, 0.055331021547317505, 0.055289506912231445, 0.05515890195965767, 0.05510427802801132, 0.0550328865647316, 0.05494773015379906, 0.054864417761564255, 0.05478299781680107, 0.05472122132778168, 0.05469394847750664, 0.05453135445713997, 0.05450095608830452, 0.05440204218029976, 0.05433645099401474, 0.05429396033287048, 0.05417901277542114, 0.05413123965263367, 0.054046496748924255, 0.053960785269737244, 0.05389629676938057, 0.053870294243097305, 0.05376236513257027, 0.05371963977813721, 0.053606562316417694, 0.05355680361390114, 0.05347665026783943, 0.05346403270959854, 0.05334388464689255, 0.05331563949584961, 0.053231775760650635, 0.05314958468079567, 0.05306951329112053, 0.05301125720143318, 0.05295847728848457, 0.05290331318974495, 0.052825719118118286, 0.05274965241551399, 0.052709851413965225, 0.052618298679590225, 0.052617672830820084, 0.052492305636405945, 0.0524265356361866, 0.052382901310920715, 0.052308935672044754, 0.05225635692477226, 0.05219125747680664, 0.052127428352832794, 0.052093446254730225, 0.05199577659368515, 0.051985882222652435, 0.05189052224159241, 0.05185229331254959, 0.05177642032504082, 0.051717013120651245, 0.051685504615306854, 0.051607273519039154, 0.05155472084879875, 0.051494892686605453, 0.051423579454422, 0.051369864493608475, 0.051324788480997086, 0.051281560212373734, 0.05121363699436188, 0.05114593356847763, 0.05115198716521263, 0.051049403846263885, 0.05098354071378708, 0.050979044288396835, 0.05086677893996239, 0.05082567036151886, 0.050776705145835876, 0.05072351545095444, 0.05066743120551109, 0.050632793456315994, 0.05057995766401291, 0.05052521824836731, 0.05046780779957771, 0.05041975900530815, 0.05040621757507324, 0.05030255392193794, 0.05040089040994644, 0.05020211264491081, 0.050153572112321854, 0.050100598484277725, 0.05005108565092087, 0.050018198788166046, 0.049964822828769684, 0.04990781471133232, 0.049874208867549896, 0.04980073124170303, 0.04976819083094597, 0.049737319350242615, 0.049695536494255066, 0.04962850734591484, 0.0495767667889595, 0.04954267665743828, 0.049496449530124664, 0.04944182559847832, 0.04939943924546242, 0.04936613142490387, 0.049329813569784164, 0.04925661161541939, 0.04921590909361839, 0.04916664585471153, 0.04915580898523331, 0.04910678789019585, 0.04903867468237877, 0.04900169000029564, 0.04894892871379852, 0.048909563571214676, 0.04884945601224899, 0.04880919307470322, 0.048770613968372345, 0.04874050244688988, 0.04868306219577789, 0.04863489791750908, 0.04861016571521759, 0.048596154898405075, 0.04852331429719925, 0.04847756773233414, 0.04845826327800751, 0.048401691019535065, 0.048380956053733826, 0.04833218455314636, 0.04826396703720093, 0.04823283851146698, 0.048181984573602676, 0.04814246669411659, 0.048139866441488266, 0.048101525753736496, 0.048027630895376205, 0.04799177870154381, 0.04796643555164337, 0.04792078211903572, 0.04789724200963974, 0.047835271805524826, 0.047885674983263016, 0.047765832394361496, 0.04775656387209892, 0.04771476984024048, 0.0476519912481308, 0.04763997346162796, 0.04758087918162346, 0.047535818070173264, 0.04750340059399605, 0.04748035967350006, 0.047467004507780075, 0.047403931617736816, 0.04735660180449486, 0.047326646745204926, 0.047298870980739594, 0.04725531488656998, 0.04726537689566612, 0.047164060175418854, 0.04714358597993851, 0.047096602618694305, 0.04709238186478615, 0.04702617973089218, 0.04700189456343651, 0.04699546471238136, 0.04700006544589996, 0.04694702476263046, 0.046866659075021744, 0.04683578759431839, 0.0468127615749836, 0.04677782580256462, 0.04673168435692787, 0.04669652879238129, 0.046663958579301834, 0.046631984412670135, 0.04662872105836868, 0.04656495898962021, 0.046549517661333084, 0.04648829996585846, 0.046473920345306396, 0.04646388441324234, 0.046404093503952026, 0.04642346873879433, 0.046321287751197815, 0.046306855976581573, 0.04630183428525925, 0.046242550015449524, 0.04622247815132141, 0.04621201753616333, 0.04618845880031586, 0.04611245542764664, 0.04611416161060333, 0.046106383204460144, 0.04603061079978943, 0.04601260647177696, 0.04596294090151787, 0.045954156666994095, 0.04592052474617958, 0.04591948166489601, 0.04585254564881325, 0.04581129550933838, 0.04582701623439789, 0.04575486481189728, 0.04574039205908775, 0.04570774734020233, 0.04569915682077408, 0.04565352201461792, 0.045628003776073456, 0.045611459761857986, 0.045594632625579834, 0.04555176571011543, 0.04552832618355751, 0.04549911990761757, 0.04545649513602257, 0.0454796701669693, 0.04539496824145317, 0.045380450785160065, 0.0453374981880188, 0.04534069448709488, 0.04529754817485809, 0.04526207968592644, 0.045238565653562546, 0.04525703191757202, 0.045212239027023315, 0.0451643280684948, 0.04512704908847809, 0.04510078579187393, 0.04508785903453827, 0.04506811499595642, 0.04502232372760773, 0.04500690475106239, 0.04495144635438919, 0.04493599757552147, 0.04492785781621933, 0.04491250216960907, 0.04488474503159523, 0.04485299065709114, 0.04481986537575722, 0.044795818626880646, 0.04475067928433418, 0.04473324120044708, 0.04471440985798836, 0.04469175636768341, 0.0446707159280777, 0.04463972896337509, 0.04461076855659485, 0.04464653506875038, 0.04455941915512085, 0.04455633461475372, 0.04451444745063782, 0.04449468478560448, 0.04449589177966118, 0.044466283172369, 0.044461216777563095, 0.0443967841565609]\n"
          ],
          "name": "stdout"
        }
      ]
    },
    {
      "cell_type": "code",
      "metadata": {
        "id": "pEFrRJPSL_AT",
        "outputId": "6d9e057c-f4b2-42a4-91d6-fab28eaf06dd",
        "colab": {
          "base_uri": "https://localhost:8080/",
          "height": 282
        }
      },
      "source": [
        "import matplotlib.pyplot as plt\n",
        "plt.plot(r.history['loss'],label='loss')\n",
        "plt.plot(r.history['val_loss'],label='val_loss')\n",
        "plt.legend()"
      ],
      "execution_count": 34,
      "outputs": [
        {
          "output_type": "execute_result",
          "data": {
            "text/plain": [
              "<matplotlib.legend.Legend at 0x7ff976143320>"
            ]
          },
          "metadata": {
            "tags": []
          },
          "execution_count": 34
        },
        {
          "output_type": "display_data",
          "data": {
            "image/png": "[encoded data removed]",
            "text/plain": [
              "<Figure size 432x288 with 1 Axes>"
            ]
          },
          "metadata": {
            "tags": [],
            "needs_background": "light"
          }
        }
      ]
    },
    {
      "cell_type": "code",
      "metadata": {
        "id": "WPUs0KJgMa3E",
        "outputId": "ead68776-4dc2-4f70-c616-0016cc12dcc7",
        "colab": {
          "base_uri": "https://localhost:8080/",
          "height": 282
        }
      },
      "source": [
        "import matplotlib.pyplot as plt\n",
        "plt.plot(r.history['accuracy'],label='accuracy')\n",
        "plt.plot(r.history['val_accuracy'],label='val_accuracy')\n",
        "plt.legend()"
      ],
      "execution_count": 35,
      "outputs": [
        {
          "output_type": "execute_result",
          "data": {
            "text/plain": [
              "<matplotlib.legend.Legend at 0x7ff969545a90>"
            ]
          },
          "metadata": {
            "tags": []
          },
          "execution_count": 35
        },
        {
          "output_type": "display_data",
          "data": {
            "image/png": "[encoded data removed]",
            "text/plain": [
              "<Figure size 432x288 with 1 Axes>"
            ]
          },
          "metadata": {
            "tags": [],
            "needs_background": "light"
          }
        }
      ]
    }
  ]
}